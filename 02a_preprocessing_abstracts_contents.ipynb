{
 "cells": [
  {
   "cell_type": "markdown",
   "metadata": {},
   "source": [
    "## <center> Data Preprocessing </center>"
   ]
  },
  {
   "cell_type": "code",
   "execution_count": 1,
   "metadata": {},
   "outputs": [],
   "source": [
    "import pandas as pd\n",
    "import re\n",
    "from nltk.corpus import stopwords\n",
    "from nltk.stem import WordNetLemmatizer\n",
    "from tqdm import tqdm"
   ]
  },
  {
   "cell_type": "code",
   "execution_count": 2,
   "metadata": {},
   "outputs": [],
   "source": [
    "%run 00_lib_preprocessing.ipynb\n",
    "%run 00_lib_sqlwriter.ipynb"
   ]
  },
  {
   "cell_type": "markdown",
   "metadata": {},
   "source": [
    "### Class Library"
   ]
  },
  {
   "cell_type": "markdown",
   "metadata": {},
   "source": [
    "### Load data"
   ]
  },
  {
   "cell_type": "code",
   "execution_count": 3,
   "metadata": {},
   "outputs": [
    {
     "name": "stdout",
     "output_type": "stream",
     "text": [
      "Table 'volumes' is ready.\n",
      "Table 'archives' is ready.\n",
      "Table 'articles' is ready.\n",
      "Table 'contents' is ready.\n",
      "Table 'authors' is ready.\n",
      "Table 'authors_articles' is ready.\n",
      "[INFO] Loading data files...\n"
     ]
    }
   ],
   "source": [
    "data_ingestion = DataIngestion_MySQL()\n",
    "text_preprocessor = TextPreprocessor()\n",
    "\n",
    "volumes_df, archives_df, articles_df, contents_df, authors_df, authors_articles_df = data_ingestion.load_data()"
   ]
  },
  {
   "cell_type": "code",
   "execution_count": 4,
   "metadata": {},
   "outputs": [
    {
     "data": {
      "text/html": [
       "<div>\n",
       "<style scoped>\n",
       "    .dataframe tbody tr th:only-of-type {\n",
       "        vertical-align: middle;\n",
       "    }\n",
       "\n",
       "    .dataframe tbody tr th {\n",
       "        vertical-align: top;\n",
       "    }\n",
       "\n",
       "    .dataframe thead th {\n",
       "        text-align: right;\n",
       "    }\n",
       "</style>\n",
       "<table border=\"1\" class=\"dataframe\">\n",
       "  <thead>\n",
       "    <tr style=\"text-align: right;\">\n",
       "      <th></th>\n",
       "      <th>archive_url</th>\n",
       "      <th>volume_number</th>\n",
       "      <th>archive_title</th>\n",
       "      <th>archive_title_clean</th>\n",
       "      <th>archive_publication_date</th>\n",
       "      <th>editor</th>\n",
       "      <th>import_date</th>\n",
       "      <th>status</th>\n",
       "    </tr>\n",
       "  </thead>\n",
       "  <tbody>\n",
       "    <tr>\n",
       "      <th>0</th>\n",
       "      <td>https://firstmonday.org/ojs/index.php/fm/issue...</td>\n",
       "      <td>Volume 4, Number 1 - 4 January 1999</td>\n",
       "      <td></td>\n",
       "      <td>None</td>\n",
       "      <td>1999-01-04</td>\n",
       "      <td></td>\n",
       "      <td>2025-03-12 18:27:25</td>\n",
       "      <td>COMPLETED</td>\n",
       "    </tr>\n",
       "  </tbody>\n",
       "</table>\n",
       "</div>"
      ],
      "text/plain": [
       "                                         archive_url  \\\n",
       "0  https://firstmonday.org/ojs/index.php/fm/issue...   \n",
       "\n",
       "                         volume_number archive_title archive_title_clean  \\\n",
       "0  Volume 4, Number 1 - 4 January 1999                              None   \n",
       "\n",
       "  archive_publication_date editor         import_date     status  \n",
       "0               1999-01-04        2025-03-12 18:27:25  COMPLETED  "
      ]
     },
     "metadata": {},
     "output_type": "display_data"
    },
    {
     "data": {
      "text/html": [
       "<div>\n",
       "<style scoped>\n",
       "    .dataframe tbody tr th:only-of-type {\n",
       "        vertical-align: middle;\n",
       "    }\n",
       "\n",
       "    .dataframe tbody tr th {\n",
       "        vertical-align: top;\n",
       "    }\n",
       "\n",
       "    .dataframe thead th {\n",
       "        text-align: right;\n",
       "    }\n",
       "</style>\n",
       "<table border=\"1\" class=\"dataframe\">\n",
       "  <thead>\n",
       "    <tr style=\"text-align: right;\">\n",
       "      <th></th>\n",
       "      <th>article_url</th>\n",
       "      <th>article_title</th>\n",
       "      <th>article_title_clean</th>\n",
       "      <th>doi</th>\n",
       "      <th>article_publication_date</th>\n",
       "      <th>author</th>\n",
       "      <th>author_clean</th>\n",
       "      <th>keyword</th>\n",
       "      <th>abstract</th>\n",
       "      <th>abstract_clean</th>\n",
       "      <th>archive_url</th>\n",
       "      <th>content_url</th>\n",
       "      <th>import_date</th>\n",
       "      <th>status</th>\n",
       "      <th>lang</th>\n",
       "      <th>abstract_clean_en</th>\n",
       "    </tr>\n",
       "  </thead>\n",
       "  <tbody>\n",
       "    <tr>\n",
       "      <th>0</th>\n",
       "      <td>https://firstmonday.org/ojs/index.php/fm/artic...</td>\n",
       "      <td>The Lives and Death of Moore's Law</td>\n",
       "      <td>the lives and death of moore's law</td>\n",
       "      <td>https://doi.org/10.5210/fm.v7i11.1000</td>\n",
       "      <td>2002-11-04</td>\n",
       "      <td>Ilkka Tuomi</td>\n",
       "      <td></td>\n",
       "      <td></td>\n",
       "      <td>Moore's Law has been an important benchmark f...</td>\n",
       "      <td></td>\n",
       "      <td>https://firstmonday.org/ojs/index.php/fm/issue...</td>\n",
       "      <td>https://firstmonday.org/ojs/index.php/fm/artic...</td>\n",
       "      <td>2025-03-13 15:28:07</td>\n",
       "      <td>COMPLETED</td>\n",
       "      <td>en</td>\n",
       "      <td>moore's law has been an important benchmark f...</td>\n",
       "    </tr>\n",
       "  </tbody>\n",
       "</table>\n",
       "</div>"
      ],
      "text/plain": [
       "                                         article_url  \\\n",
       "0  https://firstmonday.org/ojs/index.php/fm/artic...   \n",
       "\n",
       "                        article_title                 article_title_clean  \\\n",
       "0  The Lives and Death of Moore's Law  the lives and death of moore's law   \n",
       "\n",
       "                                     doi article_publication_date  \\\n",
       "0  https://doi.org/10.5210/fm.v7i11.1000               2002-11-04   \n",
       "\n",
       "        author author_clean keyword  \\\n",
       "0  Ilkka Tuomi                        \n",
       "\n",
       "                                            abstract abstract_clean  \\\n",
       "0   Moore's Law has been an important benchmark f...                  \n",
       "\n",
       "                                         archive_url  \\\n",
       "0  https://firstmonday.org/ojs/index.php/fm/issue...   \n",
       "\n",
       "                                         content_url         import_date  \\\n",
       "0  https://firstmonday.org/ojs/index.php/fm/artic... 2025-03-13 15:28:07   \n",
       "\n",
       "      status lang                                  abstract_clean_en  \n",
       "0  COMPLETED   en   moore's law has been an important benchmark f...  "
      ]
     },
     "metadata": {},
     "output_type": "display_data"
    },
    {
     "data": {
      "text/html": [
       "<div>\n",
       "<style scoped>\n",
       "    .dataframe tbody tr th:only-of-type {\n",
       "        vertical-align: middle;\n",
       "    }\n",
       "\n",
       "    .dataframe tbody tr th {\n",
       "        vertical-align: top;\n",
       "    }\n",
       "\n",
       "    .dataframe thead th {\n",
       "        text-align: right;\n",
       "    }\n",
       "</style>\n",
       "<table border=\"1\" class=\"dataframe\">\n",
       "  <thead>\n",
       "    <tr style=\"text-align: right;\">\n",
       "      <th></th>\n",
       "      <th>content_url</th>\n",
       "      <th>iframe_url</th>\n",
       "      <th>content</th>\n",
       "      <th>content_clean</th>\n",
       "      <th>lang</th>\n",
       "      <th>content_clean_en</th>\n",
       "    </tr>\n",
       "  </thead>\n",
       "  <tbody>\n",
       "    <tr>\n",
       "      <th>0</th>\n",
       "      <td>https://firstmonday.org/ojs/index.php/fm/artic...</td>\n",
       "      <td>https://firstmonday.org/ojs/index.php/fm/artic...</td>\n",
       "      <td>The lives and death of Moore's Law\\nMoore’s La...</td>\n",
       "      <td>the lives and death of moore's law moore s law...</td>\n",
       "      <td>en</td>\n",
       "      <td></td>\n",
       "    </tr>\n",
       "  </tbody>\n",
       "</table>\n",
       "</div>"
      ],
      "text/plain": [
       "                                         content_url  \\\n",
       "0  https://firstmonday.org/ojs/index.php/fm/artic...   \n",
       "\n",
       "                                          iframe_url  \\\n",
       "0  https://firstmonday.org/ojs/index.php/fm/artic...   \n",
       "\n",
       "                                             content  \\\n",
       "0  The lives and death of Moore's Law\\nMoore’s La...   \n",
       "\n",
       "                                       content_clean lang content_clean_en  \n",
       "0  the lives and death of moore's law moore s law...   en                   "
      ]
     },
     "metadata": {},
     "output_type": "display_data"
    },
    {
     "data": {
      "text/html": [
       "<div>\n",
       "<style scoped>\n",
       "    .dataframe tbody tr th:only-of-type {\n",
       "        vertical-align: middle;\n",
       "    }\n",
       "\n",
       "    .dataframe tbody tr th {\n",
       "        vertical-align: top;\n",
       "    }\n",
       "\n",
       "    .dataframe thead th {\n",
       "        text-align: right;\n",
       "    }\n",
       "</style>\n",
       "<table border=\"1\" class=\"dataframe\">\n",
       "  <thead>\n",
       "    <tr style=\"text-align: right;\">\n",
       "      <th></th>\n",
       "    </tr>\n",
       "  </thead>\n",
       "  <tbody>\n",
       "  </tbody>\n",
       "</table>\n",
       "</div>"
      ],
      "text/plain": [
       "Empty DataFrame\n",
       "Columns: []\n",
       "Index: []"
      ]
     },
     "metadata": {},
     "output_type": "display_data"
    },
    {
     "data": {
      "text/html": [
       "<div>\n",
       "<style scoped>\n",
       "    .dataframe tbody tr th:only-of-type {\n",
       "        vertical-align: middle;\n",
       "    }\n",
       "\n",
       "    .dataframe tbody tr th {\n",
       "        vertical-align: top;\n",
       "    }\n",
       "\n",
       "    .dataframe thead th {\n",
       "        text-align: right;\n",
       "    }\n",
       "</style>\n",
       "<table border=\"1\" class=\"dataframe\">\n",
       "  <thead>\n",
       "    <tr style=\"text-align: right;\">\n",
       "      <th></th>\n",
       "    </tr>\n",
       "  </thead>\n",
       "  <tbody>\n",
       "  </tbody>\n",
       "</table>\n",
       "</div>"
      ],
      "text/plain": [
       "Empty DataFrame\n",
       "Columns: []\n",
       "Index: []"
      ]
     },
     "metadata": {},
     "output_type": "display_data"
    }
   ],
   "source": [
    "display(archives_df.head(1))\n",
    "display(articles_df.head(1))\n",
    "display(contents_df.head(1))\n",
    "\n",
    "display(authors_df.head(1))\n",
    "display(authors_articles_df.head(1))"
   ]
  },
  {
   "cell_type": "markdown",
   "metadata": {},
   "source": [
    "### Preprocess Archives"
   ]
  },
  {
   "cell_type": "code",
   "execution_count": 5,
   "metadata": {},
   "outputs": [
    {
     "data": {
      "text/html": [
       "<div>\n",
       "<style scoped>\n",
       "    .dataframe tbody tr th:only-of-type {\n",
       "        vertical-align: middle;\n",
       "    }\n",
       "\n",
       "    .dataframe tbody tr th {\n",
       "        vertical-align: top;\n",
       "    }\n",
       "\n",
       "    .dataframe thead th {\n",
       "        text-align: right;\n",
       "    }\n",
       "</style>\n",
       "<table border=\"1\" class=\"dataframe\">\n",
       "  <thead>\n",
       "    <tr style=\"text-align: right;\">\n",
       "      <th></th>\n",
       "      <th>archive_url</th>\n",
       "      <th>volume_number</th>\n",
       "      <th>archive_title</th>\n",
       "      <th>archive_title_clean</th>\n",
       "      <th>archive_publication_date</th>\n",
       "      <th>editor</th>\n",
       "      <th>import_date</th>\n",
       "      <th>status</th>\n",
       "    </tr>\n",
       "  </thead>\n",
       "  <tbody>\n",
       "    <tr>\n",
       "      <th>108</th>\n",
       "      <td>https://firstmonday.org/ojs/index.php/fm/issue...</td>\n",
       "      <td>Volume 12, Number 6 — 4 June 2007</td>\n",
       "      <td>Special Issue: Designing Cyberinfrastructure</td>\n",
       "      <td>special issue: designing cyberinfrastructure</td>\n",
       "      <td>2007-06-04</td>\n",
       "      <td></td>\n",
       "      <td>2025-03-12 18:32:40</td>\n",
       "      <td>COMPLETED</td>\n",
       "    </tr>\n",
       "  </tbody>\n",
       "</table>\n",
       "</div>"
      ],
      "text/plain": [
       "                                           archive_url  \\\n",
       "108  https://firstmonday.org/ojs/index.php/fm/issue...   \n",
       "\n",
       "                         volume_number  \\\n",
       "108  Volume 12, Number 6 — 4 June 2007   \n",
       "\n",
       "                                    archive_title  \\\n",
       "108  Special Issue: Designing Cyberinfrastructure   \n",
       "\n",
       "                              archive_title_clean archive_publication_date  \\\n",
       "108  special issue: designing cyberinfrastructure               2007-06-04   \n",
       "\n",
       "    editor         import_date     status  \n",
       "108        2025-03-12 18:32:40  COMPLETED  "
      ]
     },
     "metadata": {},
     "output_type": "display_data"
    }
   ],
   "source": [
    "archives_df = data_ingestion.clean_archive_titles(archives_df)\n",
    "filtered_archives_df = archives_df[archives_df['archive_title']!='']\n",
    "display(filtered_archives_df.head(1))"
   ]
  },
  {
   "cell_type": "markdown",
   "metadata": {},
   "source": [
    "### Preprocess Articles"
   ]
  },
  {
   "cell_type": "code",
   "execution_count": 6,
   "metadata": {},
   "outputs": [
    {
     "name": "stdout",
     "output_type": "stream",
     "text": [
      "[INFO] Cleaning articles...\n"
     ]
    },
    {
     "data": {
      "text/html": [
       "<div>\n",
       "<style scoped>\n",
       "    .dataframe tbody tr th:only-of-type {\n",
       "        vertical-align: middle;\n",
       "    }\n",
       "\n",
       "    .dataframe tbody tr th {\n",
       "        vertical-align: top;\n",
       "    }\n",
       "\n",
       "    .dataframe thead th {\n",
       "        text-align: right;\n",
       "    }\n",
       "</style>\n",
       "<table border=\"1\" class=\"dataframe\">\n",
       "  <thead>\n",
       "    <tr style=\"text-align: right;\">\n",
       "      <th></th>\n",
       "      <th>article_url</th>\n",
       "      <th>article_title</th>\n",
       "      <th>article_title_clean</th>\n",
       "      <th>doi</th>\n",
       "      <th>article_publication_date</th>\n",
       "      <th>author</th>\n",
       "      <th>author_clean</th>\n",
       "      <th>keyword</th>\n",
       "      <th>abstract</th>\n",
       "      <th>abstract_clean</th>\n",
       "      <th>archive_url</th>\n",
       "      <th>content_url</th>\n",
       "      <th>import_date</th>\n",
       "      <th>status</th>\n",
       "      <th>lang</th>\n",
       "      <th>abstract_clean_en</th>\n",
       "    </tr>\n",
       "  </thead>\n",
       "  <tbody>\n",
       "    <tr>\n",
       "      <th>0</th>\n",
       "      <td>https://firstmonday.org/ojs/index.php/fm/artic...</td>\n",
       "      <td>The Lives and Death of Moore's Law</td>\n",
       "      <td>the lives and death of moore's law</td>\n",
       "      <td>https://doi.org/10.5210/fm.v7i11.1000</td>\n",
       "      <td>2002-11-04</td>\n",
       "      <td>Ilkka Tuomi</td>\n",
       "      <td>Ilkka Tuomi</td>\n",
       "      <td></td>\n",
       "      <td>Moore's Law has been an important benchmark f...</td>\n",
       "      <td>moore's law has been an important benchmark f...</td>\n",
       "      <td>https://firstmonday.org/ojs/index.php/fm/issue...</td>\n",
       "      <td>https://firstmonday.org/ojs/index.php/fm/artic...</td>\n",
       "      <td>2025-03-13 15:28:07</td>\n",
       "      <td>COMPLETED</td>\n",
       "      <td>en</td>\n",
       "      <td>moore's law has been an important benchmark f...</td>\n",
       "    </tr>\n",
       "  </tbody>\n",
       "</table>\n",
       "</div>"
      ],
      "text/plain": [
       "                                         article_url  \\\n",
       "0  https://firstmonday.org/ojs/index.php/fm/artic...   \n",
       "\n",
       "                        article_title                 article_title_clean  \\\n",
       "0  The Lives and Death of Moore's Law  the lives and death of moore's law   \n",
       "\n",
       "                                     doi article_publication_date  \\\n",
       "0  https://doi.org/10.5210/fm.v7i11.1000               2002-11-04   \n",
       "\n",
       "        author author_clean keyword  \\\n",
       "0  Ilkka Tuomi  Ilkka Tuomi           \n",
       "\n",
       "                                            abstract  \\\n",
       "0   Moore's Law has been an important benchmark f...   \n",
       "\n",
       "                                      abstract_clean  \\\n",
       "0   moore's law has been an important benchmark f...   \n",
       "\n",
       "                                         archive_url  \\\n",
       "0  https://firstmonday.org/ojs/index.php/fm/issue...   \n",
       "\n",
       "                                         content_url         import_date  \\\n",
       "0  https://firstmonday.org/ojs/index.php/fm/artic... 2025-03-13 15:28:07   \n",
       "\n",
       "      status lang                                  abstract_clean_en  \n",
       "0  COMPLETED   en   moore's law has been an important benchmark f...  "
      ]
     },
     "execution_count": 6,
     "metadata": {},
     "output_type": "execute_result"
    }
   ],
   "source": [
    "articles_df = data_ingestion.clean_articles(articles_df)\n",
    "articles_df = data_ingestion.clean_article_abstracts(articles_df)\n",
    "articles_df = data_ingestion.clean_article_titles(articles_df)\n",
    "articles_df = data_ingestion.clean_article_authors(articles_df)\n",
    "articles_df.head(1)"
   ]
  },
  {
   "cell_type": "code",
   "execution_count": 7,
   "metadata": {},
   "outputs": [
    {
     "name": "stderr",
     "output_type": "stream",
     "text": [
      "Preprocessing texts: 100%|██████████| 2677/2677 [00:00<00:00, 15267.30it/s]\n"
     ]
    }
   ],
   "source": [
    "# Remove special characters\n",
    "tqdm.pandas(desc=\"Preprocessing texts\")\n",
    "articles_df['abstract_clean'] = articles_df['abstract_clean'].progress_apply(text_preprocessor.preprocess_text)"
   ]
  },
  {
   "cell_type": "code",
   "execution_count": 8,
   "metadata": {},
   "outputs": [],
   "source": [
    "# Remove rows where 'abstract' is NaN or an empty string\n",
    "articles_df = articles_df.dropna(subset=['abstract_clean']).reset_index(drop=True)\n",
    "articles_df = articles_df[articles_df['abstract_clean'].str.strip() != ''].reset_index(drop=True)\n",
    "\n",
    "# Detect language\n",
    "articles_df['lang'] = articles_df['abstract_clean'].apply(lambda x: pd.Series(text_preprocessor.detect_language(x)))"
   ]
  },
  {
   "cell_type": "code",
   "execution_count": 9,
   "metadata": {},
   "outputs": [],
   "source": [
    "articles_df['abstract_clean_en'] = articles_df.apply(\n",
    "    lambda row: text_preprocessor.translate_to_english(row['lang'], row['abstract_clean']),\n",
    "    axis=1\n",
    ")"
   ]
  },
  {
   "cell_type": "code",
   "execution_count": 10,
   "metadata": {},
   "outputs": [
    {
     "name": "stdout",
     "output_type": "stream",
     "text": [
      "Articles preprocessing is completed\n"
     ]
    },
    {
     "data": {
      "text/html": [
       "<div>\n",
       "<style scoped>\n",
       "    .dataframe tbody tr th:only-of-type {\n",
       "        vertical-align: middle;\n",
       "    }\n",
       "\n",
       "    .dataframe tbody tr th {\n",
       "        vertical-align: top;\n",
       "    }\n",
       "\n",
       "    .dataframe thead th {\n",
       "        text-align: right;\n",
       "    }\n",
       "</style>\n",
       "<table border=\"1\" class=\"dataframe\">\n",
       "  <thead>\n",
       "    <tr style=\"text-align: right;\">\n",
       "      <th></th>\n",
       "      <th>article_url</th>\n",
       "      <th>article_title</th>\n",
       "      <th>article_title_clean</th>\n",
       "      <th>doi</th>\n",
       "      <th>article_publication_date</th>\n",
       "      <th>author</th>\n",
       "      <th>author_clean</th>\n",
       "      <th>keyword</th>\n",
       "      <th>abstract</th>\n",
       "      <th>abstract_clean</th>\n",
       "      <th>archive_url</th>\n",
       "      <th>content_url</th>\n",
       "      <th>import_date</th>\n",
       "      <th>status</th>\n",
       "      <th>lang</th>\n",
       "      <th>abstract_clean_en</th>\n",
       "    </tr>\n",
       "  </thead>\n",
       "  <tbody>\n",
       "    <tr>\n",
       "      <th>0</th>\n",
       "      <td>https://firstmonday.org/ojs/index.php/fm/artic...</td>\n",
       "      <td>The Lives and Death of Moore's Law</td>\n",
       "      <td>the lives and death of moore's law</td>\n",
       "      <td>https://doi.org/10.5210/fm.v7i11.1000</td>\n",
       "      <td>2002-11-04</td>\n",
       "      <td>Ilkka Tuomi</td>\n",
       "      <td>Ilkka Tuomi</td>\n",
       "      <td></td>\n",
       "      <td>Moore's Law has been an important benchmark f...</td>\n",
       "      <td>moore's law has been an important benchmark f...</td>\n",
       "      <td>https://firstmonday.org/ojs/index.php/fm/issue...</td>\n",
       "      <td>https://firstmonday.org/ojs/index.php/fm/artic...</td>\n",
       "      <td>2025-03-13 15:28:07</td>\n",
       "      <td>COMPLETED</td>\n",
       "      <td>en</td>\n",
       "      <td>moore's law has been an important benchmark f...</td>\n",
       "    </tr>\n",
       "  </tbody>\n",
       "</table>\n",
       "</div>"
      ],
      "text/plain": [
       "                                         article_url  \\\n",
       "0  https://firstmonday.org/ojs/index.php/fm/artic...   \n",
       "\n",
       "                        article_title                 article_title_clean  \\\n",
       "0  The Lives and Death of Moore's Law  the lives and death of moore's law   \n",
       "\n",
       "                                     doi article_publication_date  \\\n",
       "0  https://doi.org/10.5210/fm.v7i11.1000               2002-11-04   \n",
       "\n",
       "        author author_clean keyword  \\\n",
       "0  Ilkka Tuomi  Ilkka Tuomi           \n",
       "\n",
       "                                            abstract  \\\n",
       "0   Moore's Law has been an important benchmark f...   \n",
       "\n",
       "                                      abstract_clean  \\\n",
       "0   moore's law has been an important benchmark f...   \n",
       "\n",
       "                                         archive_url  \\\n",
       "0  https://firstmonday.org/ojs/index.php/fm/issue...   \n",
       "\n",
       "                                         content_url         import_date  \\\n",
       "0  https://firstmonday.org/ojs/index.php/fm/artic... 2025-03-13 15:28:07   \n",
       "\n",
       "      status lang                                  abstract_clean_en  \n",
       "0  COMPLETED   en   moore's law has been an important benchmark f...  "
      ]
     },
     "metadata": {},
     "output_type": "display_data"
    }
   ],
   "source": [
    "# Update to database\n",
    "data_ingestion.mysql_writer.update_article_clean(articles_df)\n",
    "display(articles_df.head(1))"
   ]
  },
  {
   "cell_type": "markdown",
   "metadata": {},
   "source": [
    "### Preprocess Contents"
   ]
  },
  {
   "cell_type": "code",
   "execution_count": 11,
   "metadata": {},
   "outputs": [
    {
     "name": "stderr",
     "output_type": "stream",
     "text": [
      "Preprocessing texts: 100%|██████████| 2674/2674 [00:13<00:00, 196.33it/s]\n"
     ]
    }
   ],
   "source": [
    "contents_df = data_ingestion.clean_article_contents(contents_df)\n",
    "tqdm.pandas(desc=\"Preprocessing texts\")\n",
    "contents_df['content_clean'] = contents_df['content_clean'].progress_apply(text_preprocessor.preprocess_text)"
   ]
  },
  {
   "cell_type": "code",
   "execution_count": 12,
   "metadata": {},
   "outputs": [
    {
     "data": {
      "text/html": [
       "<div>\n",
       "<style scoped>\n",
       "    .dataframe tbody tr th:only-of-type {\n",
       "        vertical-align: middle;\n",
       "    }\n",
       "\n",
       "    .dataframe tbody tr th {\n",
       "        vertical-align: top;\n",
       "    }\n",
       "\n",
       "    .dataframe thead th {\n",
       "        text-align: right;\n",
       "    }\n",
       "</style>\n",
       "<table border=\"1\" class=\"dataframe\">\n",
       "  <thead>\n",
       "    <tr style=\"text-align: right;\">\n",
       "      <th></th>\n",
       "      <th>content_url</th>\n",
       "      <th>iframe_url</th>\n",
       "      <th>content</th>\n",
       "      <th>content_clean</th>\n",
       "      <th>content_clean_en</th>\n",
       "      <th>lang</th>\n",
       "    </tr>\n",
       "  </thead>\n",
       "  <tbody>\n",
       "    <tr>\n",
       "      <th>0</th>\n",
       "      <td>https://firstmonday.org/ojs/index.php/fm/artic...</td>\n",
       "      <td>https://firstmonday.org/ojs/index.php/fm/artic...</td>\n",
       "      <td>The lives and death of Moore's Law\\nMoore’s La...</td>\n",
       "      <td>the lives and death of moore's law moore s law...</td>\n",
       "      <td></td>\n",
       "      <td>en</td>\n",
       "    </tr>\n",
       "  </tbody>\n",
       "</table>\n",
       "</div>"
      ],
      "text/plain": [
       "                                         content_url  \\\n",
       "0  https://firstmonday.org/ojs/index.php/fm/artic...   \n",
       "\n",
       "                                          iframe_url  \\\n",
       "0  https://firstmonday.org/ojs/index.php/fm/artic...   \n",
       "\n",
       "                                             content  \\\n",
       "0  The lives and death of Moore's Law\\nMoore’s La...   \n",
       "\n",
       "                                       content_clean content_clean_en lang  \n",
       "0  the lives and death of moore's law moore s law...                    en  "
      ]
     },
     "execution_count": 12,
     "metadata": {},
     "output_type": "execute_result"
    }
   ],
   "source": [
    "# Update language value\n",
    "\n",
    "# Create subsets of each DataFrame with the specified columns\n",
    "articles_df = articles_df[['content_url', 'lang']]\n",
    "contents_df = contents_df[['content_url',  'iframe_url', 'content', 'content_clean', 'content_clean_en']]\n",
    "\n",
    "# Merge the subsets on the 'content_url' column\n",
    "articles_contents_df = pd.merge(contents_df, articles_df, on='content_url', how='left')\n",
    "articles_contents_df = articles_contents_df.fillna('')\n",
    "articles_contents_df.head(1)"
   ]
  },
  {
   "cell_type": "code",
   "execution_count": 13,
   "metadata": {},
   "outputs": [
    {
     "name": "stdout",
     "output_type": "stream",
     "text": [
      "Contents preprocessing is completed.\n"
     ]
    }
   ],
   "source": [
    "# Update to database\n",
    "data_ingestion.mysql_writer.update_content_clean(articles_contents_df)"
   ]
  }
 ],
 "metadata": {
  "kernelspec": {
   "display_name": "base",
   "language": "python",
   "name": "python3"
  },
  "language_info": {
   "codemirror_mode": {
    "name": "ipython",
    "version": 3
   },
   "file_extension": ".py",
   "mimetype": "text/x-python",
   "name": "python",
   "nbconvert_exporter": "python",
   "pygments_lexer": "ipython3",
   "version": "3.12.3"
  }
 },
 "nbformat": 4,
 "nbformat_minor": 2
}
