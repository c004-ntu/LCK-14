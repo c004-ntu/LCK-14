{
 "cells": [
  {
   "cell_type": "markdown",
   "metadata": {},
   "source": [
    "### Class  for evaluating BERTopic models using OCTIS framework"
   ]
  },
  {
   "cell_type": "code",
   "execution_count": 1,
   "metadata": {},
   "outputs": [
    {
     "name": "stderr",
     "output_type": "stream",
     "text": [
      "c:\\Users\\Chris\\anaconda3\\envs\\bertopic_39\\lib\\site-packages\\tqdm\\auto.py:21: TqdmWarning: IProgress not found. Please update jupyter and ipywidgets. See https://ipywidgets.readthedocs.io/en/stable/user_install.html\n",
      "  from .autonotebook import tqdm as notebook_tqdm\n",
      "[nltk_data] Downloading package wordnet to\n",
      "[nltk_data]     C:\\Users\\Chris\\AppData\\Roaming\\nltk_data...\n",
      "[nltk_data]   Package wordnet is already up-to-date!\n",
      "[nltk_data] Downloading package omw-1.4 to\n",
      "[nltk_data]     C:\\Users\\Chris\\AppData\\Roaming\\nltk_data...\n",
      "[nltk_data]   Package omw-1.4 is already up-to-date!\n",
      "[nltk_data] Downloading package punkt to\n",
      "[nltk_data]     C:\\Users\\Chris\\AppData\\Roaming\\nltk_data...\n",
      "[nltk_data]   Package punkt is already up-to-date!\n"
     ]
    }
   ],
   "source": [
    "# %% [code]\n",
    "import os\n",
    "import sys\n",
    "import numpy as np\n",
    "import pandas as pd\n",
    "from typing import Dict, List, Any, Tuple\n",
    "from collections import Counter\n",
    "from sklearn.metrics import silhouette_score, calinski_harabasz_score\n",
    "from gensim.models.coherencemodel import CoherenceModel\n",
    "from gensim.corpora import Dictionary\n",
    "import networkx as nx\n",
    "from bertopic import BERTopic\n",
    "import nltk\n",
    "from nltk.tokenize import word_tokenize\n",
    "from nltk.stem import WordNetLemmatizer\n",
    "import warnings\n",
    "import traceback\n",
    "\n",
    "# Define the LemmaTokenizer so that it is available during unpickling.\n",
    "class LemmaTokenizer:\n",
    "    def __init__(self):\n",
    "        self.wnl = WordNetLemmatizer()\n",
    "    def __call__(self, doc):\n",
    "        # Tokenize and lemmatize the document.\n",
    "        return [self.wnl.lemmatize(token) for token in word_tokenize(doc)]\n",
    "\n",
    "# Download required NLTK data\n",
    "try:\n",
    "    nltk.download('wordnet')\n",
    "    nltk.download('omw-1.4')\n",
    "    nltk.download('punkt')\n",
    "    NLTK_AVAILABLE = True\n",
    "\n",
    "except Exception as e:\n",
    "    print(f\"Warning: NLTK data download failed: {e}\")\n",
    "    NLTK_AVAILABLE = False\n",
    "\n",
    "class OCTISEvaluator:\n",
    "    \"\"\"\n",
    "    OCTIS-based evaluator for comprehensive topic model assessment.\n",
    "    \n",
    "    This class implements evaluation metrics from the OCTIS framework, combined with\n",
    "    recommendations from the BERTopic authors. It calculates coherence, diversity,\n",
    "    quality, clustering, and significance metrics.\n",
    "    \"\"\"\n",
    "    \n",
    "    def __init__(self, model_path: str):\n",
    "        self.model_path = model_path\n",
    "        self.model = None\n",
    "        self.topics = {}\n",
    "        self.topic_words = []\n",
    "        self.documents = []\n",
    "        self.tokenized_docs = []\n",
    "        self.metrics = {}\n",
    "        \n",
    "    def load_model(self) -> bool:\n",
    "        \"\"\"Load the BERTopic model.\"\"\"\n",
    "        try:\n",
    "            print(f\"Loading model from {self.model_path}...\")\n",
    "            self.model = BERTopic.load(self.model_path)\n",
    "            return True\n",
    "        except Exception as e:\n",
    "            print(f\"Error loading model: {e}\")\n",
    "            return False\n",
    "            \n",
    "    def extract_topics(self) -> bool:\n",
    "        \"\"\"Extract topics from the model.\"\"\"\n",
    "        try:\n",
    "            if not self.model:\n",
    "                print(\"Model not loaded. Call load_model() first.\")\n",
    "                return False\n",
    "            self.topics = self.model.get_topics()\n",
    "            # Convert topics for coherence calculation\n",
    "            self.topic_words = []\n",
    "            for topic_id, words in self.topics.items():\n",
    "                if topic_id != -1:  # Skip outlier topic\n",
    "                    top_words = [word for word, _ in words[:10]]\n",
    "                    self.topic_words.append(top_words)\n",
    "            return True\n",
    "        except Exception as e:\n",
    "            print(f\"Error extracting topics: {e}\")\n",
    "            return False\n",
    "            \n",
    "    def load_documents(self, docs_path: str) -> bool:\n",
    "        \"\"\"Load and preprocess documents.\"\"\"\n",
    "        try:\n",
    "            if docs_path.endswith('.xlsx'):\n",
    "                df = pd.read_excel(docs_path)\n",
    "                display(df.head(2))\n",
    "                display(df.dtypes)\n",
    "                self.documents = df[\"abstract_content_clean_en\"].fillna(\"\").tolist()\n",
    "            else:\n",
    "                with open(docs_path, 'r', encoding='utf-8') as f:\n",
    "                    self.documents = f.readlines()\n",
    "            self._tokenize_documents()\n",
    "            \n",
    "            return True\n",
    "        except Exception as e:\n",
    "            print(f\"Error loading documents: {e}\")\n",
    "            return False\n",
    "            \n",
    "    def _tokenize_documents(self):\n",
    "        \"\"\"Tokenize documents for coherence calculation.\"\"\"\n",
    "        if not NLTK_AVAILABLE:\n",
    "            print(\"NLTK not available. Install nltk for tokenization.\")\n",
    "            return\n",
    "        try:\n",
    "            tokenizer = WordNetLemmatizer()\n",
    "            self.tokenized_docs = []\n",
    "            for doc in self.documents:\n",
    "                if not isinstance(doc, str):\n",
    "                    doc = str(doc)\n",
    "                tokens = word_tokenize(doc.lower())\n",
    "                tokens = [tokenizer.lemmatize(token) for token in tokens]\n",
    "                tokens = [token for token in tokens if len(token) > 2 and any(c.isalpha() for c in token)]\n",
    "                if tokens:\n",
    "                    self.tokenized_docs.append(tokens)\n",
    "        except Exception as e:\n",
    "            print(f\"Error in tokenization: {e}\")\n",
    "            traceback.print_exc()"
   ]
  },
  {
   "cell_type": "markdown",
   "metadata": {},
   "source": [
    "### Instance"
   ]
  },
  {
   "cell_type": "code",
   "execution_count": 2,
   "metadata": {},
   "outputs": [],
   "source": [
    "model_path = \"model/bertopic_model\"\n",
    "docs_path = \"data/archives_articles_contents.xlsx\""
   ]
  },
  {
   "cell_type": "code",
   "execution_count": 3,
   "metadata": {},
   "outputs": [],
   "source": [
    "# STEP 1: Ingest and clean data\n",
    "articles_contents_df = pd.read_excel(docs_path)"
   ]
  },
  {
   "cell_type": "code",
   "execution_count": 4,
   "metadata": {},
   "outputs": [
    {
     "name": "stdout",
     "output_type": "stream",
     "text": [
      "Loading model from model/bertopic_model...\n"
     ]
    },
    {
     "name": "stderr",
     "output_type": "stream",
     "text": [
      "Batches: 100%|██████████| 76/76 [06:28<00:00,  5.11s/it]\n",
      "2025-03-24 01:07:39,833 - BERTopic - Embedding - Completed ✓\n",
      "2025-03-24 01:07:39,843 - BERTopic - Dimensionality - Fitting the dimensionality reduction algorithm\n",
      "2025-03-24 01:08:04,941 - BERTopic - Dimensionality - Completed ✓\n",
      "2025-03-24 01:08:04,945 - BERTopic - Cluster - Start clustering the reduced embeddings\n",
      "2025-03-24 01:08:05,493 - BERTopic - Cluster - Completed ✓\n",
      "2025-03-24 01:08:05,495 - BERTopic - Representation - Extracting topics using c-TF-IDF for topic reduction.\n",
      "2025-03-24 01:08:20,364 - BERTopic - Representation - Completed ✓\n",
      "2025-03-24 01:08:20,374 - BERTopic - Topic reduction - Reducing number of topics\n",
      "2025-03-24 01:08:20,376 - BERTopic - Topic reduction - Number of topics (35) is equal or higher than the clustered topics(35).\n",
      "2025-03-24 01:08:20,377 - BERTopic - Representation - Fine-tuning topics using representation models.\n",
      "2025-03-24 01:08:30,688 - BERTopic - Representation - Completed ✓\n"
     ]
    }
   ],
   "source": [
    "# STEP 2: Load model\n",
    "evaluator = OCTISEvaluator(model_path=model_path)\n",
    "if evaluator.load_model():\n",
    "\n",
    "    # create the topics using pre-saved model \n",
    "    topic_model = evaluator.model\n",
    "    abstracts_and_contents = articles_contents_df['abstract_content_clean_en'].tolist()\n",
    "    topics, probabilities = topic_model.fit_transform(abstracts_and_contents)\n",
    "\n",
    "else:\n",
    "    print(\"Failed to load model.\")"
   ]
  },
  {
   "cell_type": "code",
   "execution_count": null,
   "metadata": {},
   "outputs": [
    {
     "name": "stdout",
     "output_type": "stream",
     "text": [
      "Topic diversity score: 0.9514285714285714\n"
     ]
    }
   ],
   "source": [
    "# STEP 3: Evaluate the model -> Topic diversity\n",
    "from octis.evaluation_metrics.diversity_metrics import TopicDiversity\n",
    "\n",
    "topics = topic_model.get_topics()\n",
    "print(f\"Topics: {topics}\")\n",
    "# print(f\"Type of topics: {type(topics)}\")\n",
    "\n",
    "# Convert the dictionary from BERTopic to a list of lists\n",
    "topics_list = [[word for word, _ in words] for _, words in topic_model.get_topics().items()]\n",
    "print(f\"Topics_list: {type(topics_list)}\")\n",
    "# print(f\"Type of topics_list: {type(topics_list)}\")\n",
    "\n",
    "model_output = {\"topics\": topics_list}\n",
    "# print(f\"Model_output: {model_output}\")\n",
    "# print(f\"Type of model_output: type({model_output})\")\n",
    "\n",
    "# Initialize the metric\n",
    "metric = TopicDiversity(topk=10) # topk - the number of words to include in a topic\n",
    "\n",
    "# Compute score\n",
    "try:\n",
    "    topic_score = metric.score(model_output)\n",
    "    print(f\"Topic diversity score: {topic_score}\")\n",
    "except ValueError as e:\n",
    "    print(f\"Error occurred: {e}\")\n"
   ]
  },
  {
   "cell_type": "code",
   "execution_count": null,
   "metadata": {},
   "outputs": [
    {
     "name": "stdout",
     "output_type": "stream",
     "text": [
      "Topic coherence score: 0.9988282741686131\n"
     ]
    }
   ],
   "source": [
    "# STEP 4: Evaluate the model -> Topic coherence\n",
    "from octis.evaluation_metrics.coherence_metrics import Coherence\n",
    "\n",
    "topics = topic_model.get_topics()\n",
    "print(f\"Topics: {topics}\")\n",
    "# print(f\"Type of topics: {type(topics)}\")\n",
    "\n",
    "# Convert the dictionary from BERTopic to a list of lists\n",
    "topics_list = [[word for word, _ in words] for _, words in topic_model.get_topics().items()]\n",
    "# print(f\"Topics_list: {type(topics_list)}\")\n",
    "# print(f\"Type of topics_list: {type(topics_list)}\")\n",
    "\n",
    "model_output = {\"topics\": topics_list}\n",
    "# print(f\"Model_output: {model_output}\")\n",
    "# print(f\"Type of model_output: type({model_output})\")\n",
    "\n",
    "# Initialize the metric\n",
    "metric = Coherence(topk=10, texts=topics_list, measure=\"c_v\")\n",
    "\n",
    "# Compute score\n",
    "try:\n",
    "    topic_score = metric.score(model_output)\n",
    "    print(f\"Topic coherence score: {topic_score}\")\n",
    "except ValueError as e:\n",
    "    print(f\"Error occurred: {e}\")"
   ]
  },
  {
   "cell_type": "code",
   "execution_count": 7,
   "metadata": {},
   "outputs": [],
   "source": [
    "# SAMPLE\n",
    "\n",
    "# from octis.evaluation_metrics.coherence_metrics import Coherence\n",
    "\n",
    "# # Example tokenized documents (texts used to calculate coherence)\n",
    "# texts = [\n",
    "#     [\"open\", \"source\", \"software\", \"linux\", \"development\"],\n",
    "#     [\"digital\", \"divide\", \"inequality\", \"skill\", \"gap\"],\n",
    "#     [\"bot\", \"disinformation\", \"election\", \"tweet\", \"propaganda\"],\n",
    "#     [\"library\", \"public\", \"book\", \"librarian\", \"community\"],\n",
    "#     [\"fan\", \"movie\", \"fiction\", \"photo\", \"art\"]\n",
    "# ]\n",
    "\n",
    "# # Example topics (list of lists containing topic terms)\n",
    "# topics = [\n",
    "#     [\"open\", \"source\", \"software\", \"linux\", \"development\"],\n",
    "#     [\"digital\", \"divide\", \"inequality\", \"skill\", \"gap\"],\n",
    "#     [\"bot\", \"disinformation\", \"election\", \"tweet\", \"propaganda\"],\n",
    "#     [\"library\", \"public\", \"book\", \"librarian\", \"community\"],\n",
    "#     [\"fan\", \"movie\", \"fiction\", \"photo\", \"art\"]\n",
    "# ]\n",
    "\n",
    "# # Initialize the Coherence metric\n",
    "# metric = Coherence(topk=5, texts=None, measure=\"c_npmi\")\n",
    "\n",
    "# # Compute coherence score\n",
    "# coherence_score = metric.score({\"topics\": topics})\n",
    "\n",
    "# # Display the coherence score\n",
    "# print(f\"Coherence Score: {coherence_score}\")"
   ]
  }
 ],
 "metadata": {
  "kernelspec": {
   "display_name": "bertopic_39",
   "language": "python",
   "name": "python3"
  },
  "language_info": {
   "codemirror_mode": {
    "name": "ipython",
    "version": 3
   },
   "file_extension": ".py",
   "mimetype": "text/x-python",
   "name": "python",
   "nbconvert_exporter": "python",
   "pygments_lexer": "ipython3",
   "version": "3.9.21"
  }
 },
 "nbformat": 4,
 "nbformat_minor": 2
}
