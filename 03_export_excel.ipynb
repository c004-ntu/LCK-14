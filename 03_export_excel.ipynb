{
 "cells": [
  {
   "cell_type": "markdown",
   "metadata": {},
   "source": [
    "## Export MySQL data to csv\n",
    "\n"
   ]
  },
  {
   "cell_type": "markdown",
   "metadata": {},
   "source": [
    "### Include SQL base class"
   ]
  },
  {
   "cell_type": "code",
   "execution_count": 1,
   "metadata": {},
   "outputs": [],
   "source": [
    "%run 00_lib_preprocessing.ipynb\n",
    "%run 00_lib_sqlwriter.ipynb"
   ]
  },
  {
   "cell_type": "code",
   "execution_count": 2,
   "metadata": {},
   "outputs": [
    {
     "name": "stdout",
     "output_type": "stream",
     "text": [
      "Table 'volumes' is ready.\n",
      "Table 'archives' is ready.\n",
      "Table 'articles' is ready.\n",
      "Table 'contents' is ready.\n",
      "Table 'authors' is ready.\n",
      "Table 'authors_articles' is ready.\n",
      "Volumes has been exported to 'data/volumes.xlsx' successfully.\n",
      "Archives has been exported to 'data/archives.xlsx' successfully.\n",
      "Articles has been exported to 'data/articles.xlsx' successfully.\n",
      "Contents has been exported to 'data/contents.xlsx' successfully.\n",
      "Authors has been exported to 'data/authors.xlsx' successfully.\n",
      "Archives_articles_contents has been exported to 'data/archives_articles_contents.xlsx' successfully.\n",
      "Authors_articles has been exported to 'data/authors_articles.xlsx' successfully.\n",
      "MySQL connection closed.\n"
     ]
    }
   ],
   "source": [
    "host = \"localhost\"\n",
    "user = \"root\"\n",
    "password = \"root\"\n",
    "database = \"fmdb\"\n",
    "\n",
    "mysql_writer = MySQLWriter(host, user, password, database)\n",
    "\n",
    "try:\n",
    "    mysql_writer.volumes_to_excel()\n",
    "    mysql_writer.archives_to_excel()\n",
    "    mysql_writer.articles_to_excel()\n",
    "    mysql_writer.contents_to_excel()\n",
    "    mysql_writer.authors_to_excel()\n",
    "\n",
    "    mysql_writer.archives_articles_contents_to_excel()\n",
    "    mysql_writer.authors_articles_to_excel()\n",
    "\n",
    "except Exception as e:\n",
    "    print(\"An error occurred:\", e)\n",
    "    \n",
    "finally:\n",
    "    mysql_writer.close_connection()"
   ]
  }
 ],
 "metadata": {
  "kernelspec": {
   "display_name": "base",
   "language": "python",
   "name": "python3"
  },
  "language_info": {
   "codemirror_mode": {
    "name": "ipython",
    "version": 3
   },
   "file_extension": ".py",
   "mimetype": "text/x-python",
   "name": "python",
   "nbconvert_exporter": "python",
   "pygments_lexer": "ipython3",
   "version": "3.12.3"
  }
 },
 "nbformat": 4,
 "nbformat_minor": 2
}
