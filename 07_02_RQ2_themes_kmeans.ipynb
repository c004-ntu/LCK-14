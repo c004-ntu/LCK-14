{
 "cells": [
  {
   "cell_type": "markdown",
   "metadata": {},
   "source": [
    "# Class Library"
   ]
  },
  {
   "cell_type": "code",
   "execution_count": 1,
   "metadata": {},
   "outputs": [
    {
     "name": "stderr",
     "output_type": "stream",
     "text": [
      "c:\\Users\\Chris\\anaconda3\\envs\\bertopic_39\\lib\\site-packages\\tqdm\\auto.py:21: TqdmWarning: IProgress not found. Please update jupyter and ipywidgets. See https://ipywidgets.readthedocs.io/en/stable/user_install.html\n",
      "  from .autonotebook import tqdm as notebook_tqdm\n"
     ]
    }
   ],
   "source": [
    "import os\n",
    "import re\n",
    "import json\n",
    "import pandas as pd\n",
    "import numpy as np\n",
    "import nltk\n",
    "from nltk.corpus import stopwords\n",
    "from nltk.stem import WordNetLemmatizer\n",
    "from nltk import word_tokenize\n",
    "\n",
    "# New import for progress bars\n",
    "from tqdm import tqdm\n",
    "\n",
    "from sentence_transformers import SentenceTransformer\n",
    "from sklearn.feature_extraction.text import TfidfVectorizer\n",
    "from bertopic import BERTopic\n",
    "from hdbscan import HDBSCAN\n",
    "from umap import UMAP\n",
    "from bertopic.vectorizers import ClassTfidfTransformer\n",
    "from sklearn.cluster import KMeans\n",
    "\n",
    "# LLM-related imports\n",
    "import google.generativeai as genai\n",
    "from openai import OpenAI\n",
    "from together import Together"
   ]
  },
  {
   "cell_type": "code",
   "execution_count": 2,
   "metadata": {},
   "outputs": [],
   "source": [
    "# %run 00_lib_preprocessing.ipynb\n",
    "# %run 00_lib_sqlwriter.ipynb\n",
    "\n",
    "# # Download NLTK packages\n",
    "# nltk.download('punkt')\n",
    "# nltk.download('stopwords')  # Just in case stopwords are needed\n",
    "# nltk.download('wordnet')  # For lemmatization support"
   ]
  },
  {
   "cell_type": "code",
   "execution_count": 3,
   "metadata": {},
   "outputs": [],
   "source": [
    "import os\n",
    "\n",
    "os.environ['OMP_NUM_THREADS'] = '1'"
   ]
  },
  {
   "cell_type": "code",
   "execution_count": 4,
   "metadata": {},
   "outputs": [],
   "source": [
    "class DataIngestion:\n",
    "    \"\"\"\n",
    "    Class responsible for reading data files and performing initial data cleaning.\n",
    "    \"\"\"\n",
    "    def __init__(self, file_path:str):\n",
    "        self.file_path = file_path\n",
    "\n",
    "    def load_data(self) -> tuple[pd.DataFrame, pd.DataFrame]:\n",
    "        \"\"\"\n",
    "        Loads the archives, articles, and contents DataFrames from data files.\n",
    "        \"\"\"\n",
    "        print(\"[INFO] Loading data files...\")\n",
    "        df = pd.read_excel(self.file_path)\n",
    "\n",
    "        return df\n",
    "\n",
    "class LemmaTokenizer:\n",
    "    def __init__(self):\n",
    "        self.wnl = WordNetLemmatizer()\n",
    "    def __call__(self, doc):\n",
    "        return [self.wnl.lemmatize(t) for t in word_tokenize(doc)]\n",
    "    \n",
    "class BERTopicModeler:\n",
    "    \"\"\"\n",
    "    Wrapper class for the BERTopic pipeline.\n",
    "    \"\"\"\n",
    "    def __init__(self, embedding_model_name: str, max_features: int = None):\n",
    "        \"\"\"\n",
    "        Initializes the BERTopic pipeline with SentenceTransformer, TF-IDF, and HDBSCAN.\n",
    "        \"\"\"\n",
    "        self.embedding_model = SentenceTransformer(embedding_model_name)\n",
    "        \n",
    "        self.umap_model = UMAP(n_neighbors=15, n_components=5, min_dist=0.1, metric='cosine', random_state=42)\n",
    "        \n",
    "        self.kmeans_model = KMeans(n_clusters=35, init=\"k-means++\", n_init=1, random_state=42)  # KMeans(n_clusters=35, random_state=42) # force outliers into cluster\n",
    "        \n",
    "        self.hdbscan_model = HDBSCAN(\n",
    "            min_cluster_size=3,\n",
    "            min_samples=None,\n",
    "            metric='euclidean',\n",
    "            cluster_selection_epsilon=0.0,\n",
    "            cluster_selection_method='eom',\n",
    "            prediction_data=True\n",
    "        )\n",
    "\n",
    "        self.vectorizer_model = TfidfVectorizer(\n",
    "            stop_words=\"english\", # or None\n",
    "            max_features=max_features,\n",
    "            ngram_range=(1, 3),\n",
    "            tokenizer=LemmaTokenizer()\n",
    "        )\n",
    "\n",
    "        self.ctfidf_model = ClassTfidfTransformer(reduce_frequent_words=True)\n",
    "        # Enable verbose to get some internal logs from BERTopic\n",
    "        self.topic_model = BERTopic(\n",
    "            embedding_model=self.embedding_model,\n",
    "            umap_model=self.umap_model,\n",
    "            hdbscan_model=self.hdbscan_model,\n",
    "            vectorizer_model=self.vectorizer_model,\n",
    "            ctfidf_model=self.ctfidf_model,\n",
    "            nr_topics=\"auto\", # None, no reduction. \"auto\" will reduce topics using HDBSCAN\n",
    "            top_n_words=10,\n",
    "            verbose=True  # <--- Will print messages during training\n",
    "        )\n",
    "\n",
    "    def fit_transform(self, texts: list[str]) -> tuple[list[int], list[list[float]]]:\n",
    "        \"\"\"\n",
    "        Fits the topic model, and returns the assigned topic labels and probabilities.\n",
    "        \"\"\"\n",
    "        print(\"[INFO] Fitting BERTopic model... This may take a while.\")\n",
    "        topics, probs = self.topic_model.fit_transform(texts)\n",
    "        print(\"[INFO] BERTopic fitting complete.\")\n",
    "        return topics, probs\n",
    "\n",
    "    def reduce_topics(self, texts: list[str], probabilities, nr_topics: int = 20):\n",
    "        \"\"\"\n",
    "        Reduces the number of topics to nr_topics.\n",
    "        \"\"\"\n",
    "        print(f\"[INFO] Reducing number of topics to {nr_topics}...\")\n",
    "        self.topic_model.reduce_topics(texts, probabilities, nr_topics=nr_topics)\n",
    "\n",
    "    def get_topic_info(self) -> pd.DataFrame:\n",
    "        \"\"\"\n",
    "        Returns topic information (id, count, representative words).\n",
    "        \"\"\"\n",
    "        return self.topic_model.get_topic_info()\n",
    "\n",
    "# ------------------------------------------------------------------\n",
    "# Abstract base class for LLM usage\n",
    "# ------------------------------------------------------------------\n",
    "\n",
    "class BaseLLMClient:\n",
    "    \"\"\"\n",
    "    Abstract base class for Large Language Model (LLM) clients.\n",
    "    \"\"\"\n",
    "    def __init__(self, config_path: str):\n",
    "        with open(config_path, 'r', encoding='utf-8') as file:\n",
    "            self.config = json.load(file)\n",
    "\n",
    "    def generate_semantic_topic(self, topic_name: str, top_keywords: str) -> str:\n",
    "        \"\"\"\n",
    "        Method to be implemented in subclasses to generate a semantic topic.\n",
    "        \"\"\"\n",
    "        raise NotImplementedError(\"Subclasses must implement this method.\")\n",
    "\n",
    "\n",
    "# ------------------------------------------------------------------\n",
    "# Concrete LLM Clients\n",
    "# ------------------------------------------------------------------\n",
    "\n",
    "class GoogleAISemanticTopicClient(BaseLLMClient):\n",
    "    \"\"\"\n",
    "    LLM client for Google Generative AI.\n",
    "    \"\"\"\n",
    "    def generate_semantic_topic(self, topic_name: str, top_keywords: str) -> str:\n",
    "        genai.configure(api_key=self.config[\"google_api_key\"])\n",
    "        model = genai.GenerativeModel(\"gemma-2-2b-it\")\n",
    "        input_text = f\"{topic_name}, {top_keywords}\"\n",
    "        prompt = (\n",
    "            f\"Create semantic topics (max 10 words) \"\n",
    "            f\"from the following keywords: {input_text}\"\n",
    "        )\n",
    "        response = model.generate_content(prompt)\n",
    "        return response.text\n",
    "\n",
    "\n",
    "class OpenAISemanticTopicClient(BaseLLMClient):\n",
    "    \"\"\"\n",
    "    LLM client for OpenAI (proxied via a custom base_url).\n",
    "    \"\"\"\n",
    "    def generate_semantic_topic(self, input_text: str) -> str:\n",
    "        prompt = (\n",
    "            \"Create a short semantic topic label (no more than 3 words) \"\n",
    "            f\"from the following text: {input_text}\"\n",
    "        )\n",
    "\n",
    "        response = self.client.chat.completions.create(\n",
    "            model=\"deepseek-ai/DeepSeek-R1\",\n",
    "            messages=[\n",
    "                {\"role\": \"system\", \"content\": \"You are a concise, helpful assistant.\"},\n",
    "                {\"role\": \"user\", \"content\": prompt}\n",
    "            ],\n",
    "            max_tokens=1000,\n",
    "            temperature=0.7,\n",
    "            top_p=0.7,\n",
    "            top_k=50,\n",
    "            repetition_penalty=1,\n",
    "            stop=[\"<|end_of_sentence|>\"],\n",
    "            stream=True\n",
    "        )\n",
    "\n",
    "        semantic_topic = \"\"\n",
    "        for token in response:\n",
    "            if hasattr(token, 'choices') and token.choices:\n",
    "                semantic_topic += token.choices[0].delta.content\n",
    "\n",
    "        return semantic_topic\n",
    "\n",
    "\n",
    "class TogetherAISemanticTopicClient(BaseLLMClient):\n",
    "    \"\"\"\n",
    "    LLM client for the Together API.\n",
    "    \"\"\"\n",
    "    def __init__(self, config_path: str):\n",
    "        super().__init__(config_path)\n",
    "        os.environ[\"TOGETHER_API_KEY\"] = self.config[\"together_api_key\"]\n",
    "        self.client = Together(api_key=self.config[\"together_api_key\"])\n",
    "\n",
    "    def generate_semantic_topic(self, topic_name: str, top_keywords: str, max_num_of_output_words:int = 3) -> str:\n",
    "        \"\"\"\n",
    "        Generates a concise semantic topic label from the topic name and keywords.\n",
    "        \"\"\"\n",
    "\n",
    "        # Turn list of keywords into a short string:\n",
    "        keywords_text = top_keywords\n",
    "\n",
    "        # Create a clear, direct instruction for the LLM:\n",
    "        prompt = f\"\"\"\n",
    "            You are an expert in Internet and technologies domain and topic modeling.\n",
    "            Your task: Create a high level research theme (<={max_num_of_output_words} words) that represents these keywords.\n",
    "\n",
    "            Topic Name: {topic_name}\n",
    "            Representative Keywords: {keywords_text}\n",
    "\n",
    "            Constraints:\n",
    "            1. ONLY output the research theme label itself - no explanations or additional text\n",
    "            2. Maximum {max_num_of_output_words} words\n",
    "            3. Must identify a theme that is coherent with the keywords collection\n",
    "            4. Use terminology appropriate for academic knowledge organization\n",
    "            \"\"\"\n",
    "\n",
    "        response = self.client.chat.completions.create(\n",
    "            model=\"meta-llama/Llama-3.3-70B-Instruct-Turbo\",\n",
    "            messages=[\n",
    "                {\"role\": \"system\", \"content\": \"You are a precise topic labeling assistant that generates only the requested label with no additional text.\"},\n",
    "                {\"role\": \"user\", \"content\": prompt}\n",
    "            ],\n",
    "            max_tokens=100, # short label\n",
    "            temperature=0.1, # to prioritize precision instead of creativity\n",
    "            top_p=0.9, # allow some variety but still maintaining focus\n",
    "            top_k=40,\n",
    "            repetition_penalty=1.1, # prevent repetitive output\n",
    "            stop=[\"\\n\", \".\"], # stop tokens\n",
    "            stream=True\n",
    "        )\n",
    "\n",
    "        semantic_topic = \"\"\n",
    "        for token in response:\n",
    "            if hasattr(token, 'choices') and token.choices:\n",
    "                semantic_topic += token.choices[0].delta.content\n",
    "\n",
    "        # Cleanup: strip any leading/trailing whitespace/newlines:\n",
    "        return semantic_topic.strip()\n",
    "\n",
    "\n",
    "# ------------------------------------------------------------------\n",
    "# DataFrame Processor for applying semantic topic generation\n",
    "# ------------------------------------------------------------------\n",
    "\n",
    "class SemanticTopicDataFrameProcessor:\n",
    "    @staticmethod\n",
    "    def add_semantic_topic_column(\n",
    "        df: pd.DataFrame,\n",
    "        semantic_topic_generator: BaseLLMClient,\n",
    "        name_col: str = 'Name',\n",
    "        representation_col: str = 'Representation',\n",
    "        output_col: str = 'Semantic_Topic', \n",
    "        max_num_of_output_words  = 3\n",
    "    ) -> pd.DataFrame:\n",
    "        \"\"\"\n",
    "        Use an LLM client to create a semantic topic for each row, then store the result in new column.\n",
    "\n",
    "        :param df: DataFrame containing columns for name_col and representation_col\n",
    "        :param semantic_topic_generator: An instance of a BaseLLMClient subclass\n",
    "        :param name_col: Column name that has a descriptive 'Name'\n",
    "        :param representation_col: Column name that has text to be summarized or used for generation\n",
    "        :param output_col: Name of the new column for storing the generated semantic topic\n",
    "        :return: DataFrame with the new semantic topic column.\n",
    "        \"\"\"\n",
    "\n",
    "        # --- Option A: A progress bar via a for-loop ---\n",
    "        # Initialize an empty list to collect results\n",
    "        results = []\n",
    "        print(\"[INFO] Generating semantic topics with LLM (this may take a while).\")\n",
    "        for idx in tqdm(range(len(df)), desc=\"LLM Generation\"):\n",
    "            row = df.iloc[idx]\n",
    "            topic_name = row[name_col]\n",
    "            topic_keywords = row[representation_col]\n",
    "            topic = semantic_topic_generator.generate_semantic_topic(topic_name, topic_keywords,max_num_of_output_words) \n",
    "            results.append(topic)\n",
    "\n",
    "        df[output_col] = results\n",
    "\n",
    "        return df\n",
    "\n",
    "\n",
    "import json\n",
    "import pandas as pd\n",
    "\n",
    "class DataFrameExporter:\n",
    "    \"\"\"\n",
    "    Class responsible for exporting a DataFrame to CSV or excel.    \n",
    "    \"\"\"\n",
    "    def __init__(self, config_path: str):\n",
    "        with open(config_path, \"r\", encoding=\"utf-8\") as f:\n",
    "            self.config = json.load(f)\n",
    "\n",
    "    def export_to_excel(self, df: pd.DataFrame, param_name:str) -> None:\n",
    "        \"\"\"\n",
    "        Reads the 'topic_modeling_output_excel_filename' from the config,\n",
    "        then writes the DataFrame to that excel file.\n",
    "        \"\"\"\n",
    "        output_file = self.config.get(param_name, \"default_output.xlsx\")\n",
    "        df.to_excel(output_file, index=False)\n",
    "        print(f\"[INFO] Successfully exported DataFrame to {output_file}\")"
   ]
  },
  {
   "cell_type": "markdown",
   "metadata": {},
   "source": [
    "## Start Processing"
   ]
  },
  {
   "cell_type": "code",
   "execution_count": 5,
   "metadata": {},
   "outputs": [
    {
     "data": {
      "text/html": [
       "<div>\n",
       "<style scoped>\n",
       "    .dataframe tbody tr th:only-of-type {\n",
       "        vertical-align: middle;\n",
       "    }\n",
       "\n",
       "    .dataframe tbody tr th {\n",
       "        vertical-align: top;\n",
       "    }\n",
       "\n",
       "    .dataframe thead th {\n",
       "        text-align: right;\n",
       "    }\n",
       "</style>\n",
       "<table border=\"1\" class=\"dataframe\">\n",
       "  <thead>\n",
       "    <tr style=\"text-align: right;\">\n",
       "      <th></th>\n",
       "      <th>Topic</th>\n",
       "      <th>Words</th>\n",
       "      <th>Frequency</th>\n",
       "      <th>Timestamp</th>\n",
       "      <th>Semantic_Topic</th>\n",
       "      <th>Name</th>\n",
       "    </tr>\n",
       "  </thead>\n",
       "  <tbody>\n",
       "    <tr>\n",
       "      <th>0</th>\n",
       "      <td>1</td>\n",
       "      <td>internet-based research, subject ., researcher...</td>\n",
       "      <td>1</td>\n",
       "      <td>1995-12-21 08:19:40.800</td>\n",
       "      <td>1 Digital Inequality Among Older Adults</td>\n",
       "      <td>1 Digital Inequality Among Older Adults</td>\n",
       "    </tr>\n",
       "    <tr>\n",
       "      <th>1</th>\n",
       "      <td>3</td>\n",
       "      <td>cgi, perl, , cgi, cgi ,, perl ,</td>\n",
       "      <td>3</td>\n",
       "      <td>1995-12-21 08:19:40.800</td>\n",
       "      <td>3 Public Library Services and Community Engage...</td>\n",
       "      <td>3 Public Library Services and Community Engage...</td>\n",
       "    </tr>\n",
       "    <tr>\n",
       "      <th>2</th>\n",
       "      <td>4</td>\n",
       "      <td>amv, amv scene, fan production, scene, . reward</td>\n",
       "      <td>3</td>\n",
       "      <td>1995-12-21 08:19:40.800</td>\n",
       "      <td>4 Transmedia Fan Fiction and Personal Branding...</td>\n",
       "      <td>4 Transmedia Fan Fiction and Personal Branding...</td>\n",
       "    </tr>\n",
       "    <tr>\n",
       "      <th>3</th>\n",
       "      <td>5</td>\n",
       "      <td>cash, digital cash, electronic cash, cash , el...</td>\n",
       "      <td>3</td>\n",
       "      <td>1995-12-21 08:19:40.800</td>\n",
       "      <td>5 Digital Currencies and Electronic Payment Sy...</td>\n",
       "      <td>5 Digital Currencies and Electronic Payment Sy...</td>\n",
       "    </tr>\n",
       "    <tr>\n",
       "      <th>4</th>\n",
       "      <td>6</td>\n",
       "      <td>kid ,, kid, book review, child , internet, 's ...</td>\n",
       "      <td>1</td>\n",
       "      <td>1995-12-21 08:19:40.800</td>\n",
       "      <td>6 Distance Education and Open Educational Reso...</td>\n",
       "      <td>6 Distance Education and Open Educational Reso...</td>\n",
       "    </tr>\n",
       "  </tbody>\n",
       "</table>\n",
       "</div>"
      ],
      "text/plain": [
       "   Topic                                              Words  Frequency  \\\n",
       "0      1  internet-based research, subject ., researcher...          1   \n",
       "1      3                    cgi, perl, , cgi, cgi ,, perl ,          3   \n",
       "2      4    amv, amv scene, fan production, scene, . reward          3   \n",
       "3      5  cash, digital cash, electronic cash, cash , el...          3   \n",
       "4      6  kid ,, kid, book review, child , internet, 's ...          1   \n",
       "\n",
       "                Timestamp                                     Semantic_Topic  \\\n",
       "0 1995-12-21 08:19:40.800            1 Digital Inequality Among Older Adults   \n",
       "1 1995-12-21 08:19:40.800  3 Public Library Services and Community Engage...   \n",
       "2 1995-12-21 08:19:40.800  4 Transmedia Fan Fiction and Personal Branding...   \n",
       "3 1995-12-21 08:19:40.800  5 Digital Currencies and Electronic Payment Sy...   \n",
       "4 1995-12-21 08:19:40.800  6 Distance Education and Open Educational Reso...   \n",
       "\n",
       "                                                Name  \n",
       "0            1 Digital Inequality Among Older Adults  \n",
       "1  3 Public Library Services and Community Engage...  \n",
       "2  4 Transmedia Fan Fiction and Personal Branding...  \n",
       "3  5 Digital Currencies and Electronic Payment Sy...  \n",
       "4  6 Distance Education and Open Educational Reso...  "
      ]
     },
     "metadata": {},
     "output_type": "display_data"
    },
    {
     "data": {
      "text/plain": [
       "(844, 6)"
      ]
     },
     "metadata": {},
     "output_type": "display_data"
    },
    {
     "data": {
      "text/html": [
       "<div>\n",
       "<style scoped>\n",
       "    .dataframe tbody tr th:only-of-type {\n",
       "        vertical-align: middle;\n",
       "    }\n",
       "\n",
       "    .dataframe tbody tr th {\n",
       "        vertical-align: top;\n",
       "    }\n",
       "\n",
       "    .dataframe thead th {\n",
       "        text-align: right;\n",
       "    }\n",
       "</style>\n",
       "<table border=\"1\" class=\"dataframe\">\n",
       "  <thead>\n",
       "    <tr style=\"text-align: right;\">\n",
       "      <th></th>\n",
       "      <th>Topic</th>\n",
       "      <th>Count</th>\n",
       "      <th>Name</th>\n",
       "      <th>CustomName</th>\n",
       "      <th>Representation</th>\n",
       "      <th>Representative_Docs</th>\n",
       "      <th>Document_%</th>\n",
       "      <th>Semantic_Topic</th>\n",
       "    </tr>\n",
       "  </thead>\n",
       "  <tbody>\n",
       "    <tr>\n",
       "      <th>0</th>\n",
       "      <td>0</td>\n",
       "      <td>87</td>\n",
       "      <td>0_open source_floss_linux_source software</td>\n",
       "      <td>open source, floss, linux, source software, op...</td>\n",
       "      <td>['open source', 'floss', 'linux', 'source soft...</td>\n",
       "      <td>[' starting with eric raymond\\'s groundbreakin...</td>\n",
       "      <td>3.61</td>\n",
       "      <td>0 Open Source Software Development and Free Li...</td>\n",
       "    </tr>\n",
       "    <tr>\n",
       "      <th>1</th>\n",
       "      <td>1</td>\n",
       "      <td>34</td>\n",
       "      <td>1_digital skill_elderly_digital inequality_skill</td>\n",
       "      <td>digital skill, elderly, digital inequality, sk...</td>\n",
       "      <td>['digital skill', 'elderly', 'digital inequali...</td>\n",
       "      <td>['the creative industries workforce requires e...</td>\n",
       "      <td>1.41</td>\n",
       "      <td>1 Digital Inequality Among Older Adults</td>\n",
       "    </tr>\n",
       "    <tr>\n",
       "      <th>2</th>\n",
       "      <td>2</td>\n",
       "      <td>95</td>\n",
       "      <td>2_bot_qanon_troll_election</td>\n",
       "      <td>bot, qanon, troll, election, disinformation, d...</td>\n",
       "      <td>['bot', 'qanon', 'troll', 'election', 'disinfo...</td>\n",
       "      <td>['an internet troll is a person who deliberate...</td>\n",
       "      <td>3.94</td>\n",
       "      <td>2 Social Media Disinformation Detection and Bo...</td>\n",
       "    </tr>\n",
       "    <tr>\n",
       "      <th>3</th>\n",
       "      <td>3</td>\n",
       "      <td>49</td>\n",
       "      <td>3_public library_library_public_patron</td>\n",
       "      <td>public library, library, public, patron, libra...</td>\n",
       "      <td>['public library', 'library', 'public', 'patro...</td>\n",
       "      <td>[' this article presents findings from the pub...</td>\n",
       "      <td>2.03</td>\n",
       "      <td>3 Public Library Services and Community Engage...</td>\n",
       "    </tr>\n",
       "    <tr>\n",
       "      <th>4</th>\n",
       "      <td>4</td>\n",
       "      <td>64</td>\n",
       "      <td>4_transmedia_fan_fiction_street art</td>\n",
       "      <td>transmedia, fan, fiction, street art, photo, i...</td>\n",
       "      <td>['transmedia', 'fan', 'fiction', 'street art',...</td>\n",
       "      <td>['the covid- pandemic accelerated the importan...</td>\n",
       "      <td>2.65</td>\n",
       "      <td>4 Transmedia Fan Fiction and Personal Branding...</td>\n",
       "    </tr>\n",
       "  </tbody>\n",
       "</table>\n",
       "</div>"
      ],
      "text/plain": [
       "   Topic  Count                                              Name  \\\n",
       "0      0     87         0_open source_floss_linux_source software   \n",
       "1      1     34  1_digital skill_elderly_digital inequality_skill   \n",
       "2      2     95                        2_bot_qanon_troll_election   \n",
       "3      3     49            3_public library_library_public_patron   \n",
       "4      4     64               4_transmedia_fan_fiction_street art   \n",
       "\n",
       "                                          CustomName  \\\n",
       "0  open source, floss, linux, source software, op...   \n",
       "1  digital skill, elderly, digital inequality, sk...   \n",
       "2  bot, qanon, troll, election, disinformation, d...   \n",
       "3  public library, library, public, patron, libra...   \n",
       "4  transmedia, fan, fiction, street art, photo, i...   \n",
       "\n",
       "                                      Representation  \\\n",
       "0  ['open source', 'floss', 'linux', 'source soft...   \n",
       "1  ['digital skill', 'elderly', 'digital inequali...   \n",
       "2  ['bot', 'qanon', 'troll', 'election', 'disinfo...   \n",
       "3  ['public library', 'library', 'public', 'patro...   \n",
       "4  ['transmedia', 'fan', 'fiction', 'street art',...   \n",
       "\n",
       "                                 Representative_Docs  Document_%  \\\n",
       "0  [' starting with eric raymond\\'s groundbreakin...        3.61   \n",
       "1  ['the creative industries workforce requires e...        1.41   \n",
       "2  ['an internet troll is a person who deliberate...        3.94   \n",
       "3  [' this article presents findings from the pub...        2.03   \n",
       "4  ['the covid- pandemic accelerated the importan...        2.65   \n",
       "\n",
       "                                      Semantic_Topic  \n",
       "0  0 Open Source Software Development and Free Li...  \n",
       "1            1 Digital Inequality Among Older Adults  \n",
       "2  2 Social Media Disinformation Detection and Bo...  \n",
       "3  3 Public Library Services and Community Engage...  \n",
       "4  4 Transmedia Fan Fiction and Personal Branding...  "
      ]
     },
     "metadata": {},
     "output_type": "display_data"
    },
    {
     "data": {
      "text/plain": [
       "(35, 8)"
      ]
     },
     "metadata": {},
     "output_type": "display_data"
    }
   ],
   "source": [
    "# ------------------------------------------------------------------\n",
    "# Main usage (end-to-end pipeline)\n",
    "# ------------------------------------------------------------------\n",
    "\n",
    "# STEP 1: Load data\n",
    "topics_over_time_df = pd.read_excel('results/topics_over_time.xlsx')\n",
    "display(topics_over_time_df.head())\n",
    "display (topics_over_time_df.shape)\n",
    "\n",
    "topics_info_df = pd.read_excel('results/topic_info_df_gist_kmeans.xlsx')\n",
    "display(topics_info_df.head())\n",
    "display (topics_info_df.shape)\n"
   ]
  },
  {
   "cell_type": "code",
   "execution_count": 6,
   "metadata": {},
   "outputs": [],
   "source": [
    "# Function to plot the Elbow Method and Silhouette Scores\n",
    "def find_optimal_k(X, max_k=10):\n",
    "    inertia = []\n",
    "    silhouette_scores = []\n",
    "    \n",
    "    for k in range(2, max_k + 1):\n",
    "        kmeans = KMeans(n_clusters=k, random_state=42)\n",
    "        kmeans.fit(X)\n",
    "        \n",
    "        inertia.append(kmeans.inertia_)\n",
    "        silhouette_scores.append(silhouette_score(X, kmeans.labels_))\n",
    "    \n",
    "    # # Plot the Elbow Method\n",
    "    # plt.figure(figsize=(10, 6))\n",
    "    # plt.subplot(1, 2, 1)\n",
    "    # plt.plot(range(2, max_k + 1), inertia, marker='o')\n",
    "    # plt.title('Elbow Method')\n",
    "    # plt.xlabel('Number of Clusters')\n",
    "    # plt.ylabel('Inertia')\n",
    "    \n",
    "    # # Plot the Silhouette Scores\n",
    "    # plt.subplot(1, 2, 2)\n",
    "    # plt.plot(range(2, max_k + 1), silhouette_scores, marker='o')\n",
    "    # plt.title('Silhouette Scores')\n",
    "    # plt.xlabel('Number of Clusters')\n",
    "    # plt.ylabel('Silhouette Score')\n",
    "    \n",
    "    # plt.tight_layout()\n",
    "    # plt.show()\n",
    "    \n",
    "    # Calculate the change in inertia to find the \"elbow\"\n",
    "    inertia_diff = np.diff(inertia)\n",
    "    inertia_diff_2 = np.diff(inertia_diff)\n",
    "    \n",
    "    # The elbow point is where the second derivative (change in inertia_diff) is highest\n",
    "    elbow_point = np.argmax(inertia_diff_2) + 2  # Adding 2 because np.diff reduces the array size by 1\n",
    "    \n",
    "    return elbow_point"
   ]
  },
  {
   "cell_type": "code",
   "execution_count": 7,
   "metadata": {},
   "outputs": [
    {
     "data": {
      "text/html": [
       "<div>\n",
       "<style scoped>\n",
       "    .dataframe tbody tr th:only-of-type {\n",
       "        vertical-align: middle;\n",
       "    }\n",
       "\n",
       "    .dataframe tbody tr th {\n",
       "        vertical-align: top;\n",
       "    }\n",
       "\n",
       "    .dataframe thead th {\n",
       "        text-align: right;\n",
       "    }\n",
       "</style>\n",
       "<table border=\"1\" class=\"dataframe\">\n",
       "  <thead>\n",
       "    <tr style=\"text-align: right;\">\n",
       "      <th></th>\n",
       "      <th>Topic</th>\n",
       "      <th>Count</th>\n",
       "      <th>Name</th>\n",
       "      <th>CustomName</th>\n",
       "      <th>Representation</th>\n",
       "      <th>Representative_Docs</th>\n",
       "      <th>Document_%</th>\n",
       "      <th>Semantic_Topic</th>\n",
       "    </tr>\n",
       "  </thead>\n",
       "  <tbody>\n",
       "    <tr>\n",
       "      <th>0</th>\n",
       "      <td>0</td>\n",
       "      <td>87</td>\n",
       "      <td>0_open source_floss_linux_source software</td>\n",
       "      <td>open source, floss, linux, source software, op...</td>\n",
       "      <td>['open source', 'floss', 'linux', 'source soft...</td>\n",
       "      <td>[' starting with eric raymond\\'s groundbreakin...</td>\n",
       "      <td>3.61</td>\n",
       "      <td>0 Open Source Software Development and Free Li...</td>\n",
       "    </tr>\n",
       "    <tr>\n",
       "      <th>1</th>\n",
       "      <td>1</td>\n",
       "      <td>34</td>\n",
       "      <td>1_digital skill_elderly_digital inequality_skill</td>\n",
       "      <td>digital skill, elderly, digital inequality, sk...</td>\n",
       "      <td>['digital skill', 'elderly', 'digital inequali...</td>\n",
       "      <td>['the creative industries workforce requires e...</td>\n",
       "      <td>1.41</td>\n",
       "      <td>1 Digital Inequality Among Older Adults</td>\n",
       "    </tr>\n",
       "    <tr>\n",
       "      <th>2</th>\n",
       "      <td>2</td>\n",
       "      <td>95</td>\n",
       "      <td>2_bot_qanon_troll_election</td>\n",
       "      <td>bot, qanon, troll, election, disinformation, d...</td>\n",
       "      <td>['bot', 'qanon', 'troll', 'election', 'disinfo...</td>\n",
       "      <td>['an internet troll is a person who deliberate...</td>\n",
       "      <td>3.94</td>\n",
       "      <td>2 Social Media Disinformation Detection and Bo...</td>\n",
       "    </tr>\n",
       "    <tr>\n",
       "      <th>3</th>\n",
       "      <td>3</td>\n",
       "      <td>49</td>\n",
       "      <td>3_public library_library_public_patron</td>\n",
       "      <td>public library, library, public, patron, libra...</td>\n",
       "      <td>['public library', 'library', 'public', 'patro...</td>\n",
       "      <td>[' this article presents findings from the pub...</td>\n",
       "      <td>2.03</td>\n",
       "      <td>3 Public Library Services and Community Engage...</td>\n",
       "    </tr>\n",
       "    <tr>\n",
       "      <th>4</th>\n",
       "      <td>4</td>\n",
       "      <td>64</td>\n",
       "      <td>4_transmedia_fan_fiction_street art</td>\n",
       "      <td>transmedia, fan, fiction, street art, photo, i...</td>\n",
       "      <td>['transmedia', 'fan', 'fiction', 'street art',...</td>\n",
       "      <td>['the covid- pandemic accelerated the importan...</td>\n",
       "      <td>2.65</td>\n",
       "      <td>4 Transmedia Fan Fiction and Personal Branding...</td>\n",
       "    </tr>\n",
       "  </tbody>\n",
       "</table>\n",
       "</div>"
      ],
      "text/plain": [
       "   Topic  Count                                              Name  \\\n",
       "0      0     87         0_open source_floss_linux_source software   \n",
       "1      1     34  1_digital skill_elderly_digital inequality_skill   \n",
       "2      2     95                        2_bot_qanon_troll_election   \n",
       "3      3     49            3_public library_library_public_patron   \n",
       "4      4     64               4_transmedia_fan_fiction_street art   \n",
       "\n",
       "                                          CustomName  \\\n",
       "0  open source, floss, linux, source software, op...   \n",
       "1  digital skill, elderly, digital inequality, sk...   \n",
       "2  bot, qanon, troll, election, disinformation, d...   \n",
       "3  public library, library, public, patron, libra...   \n",
       "4  transmedia, fan, fiction, street art, photo, i...   \n",
       "\n",
       "                                      Representation  \\\n",
       "0  ['open source', 'floss', 'linux', 'source soft...   \n",
       "1  ['digital skill', 'elderly', 'digital inequali...   \n",
       "2  ['bot', 'qanon', 'troll', 'election', 'disinfo...   \n",
       "3  ['public library', 'library', 'public', 'patro...   \n",
       "4  ['transmedia', 'fan', 'fiction', 'street art',...   \n",
       "\n",
       "                                 Representative_Docs  Document_%  \\\n",
       "0  [' starting with eric raymond\\'s groundbreakin...        3.61   \n",
       "1  ['the creative industries workforce requires e...        1.41   \n",
       "2  ['an internet troll is a person who deliberate...        3.94   \n",
       "3  [' this article presents findings from the pub...        2.03   \n",
       "4  ['the covid- pandemic accelerated the importan...        2.65   \n",
       "\n",
       "                                      Semantic_Topic  \n",
       "0  0 Open Source Software Development and Free Li...  \n",
       "1            1 Digital Inequality Among Older Adults  \n",
       "2  2 Social Media Disinformation Detection and Bo...  \n",
       "3  3 Public Library Services and Community Engage...  \n",
       "4  4 Transmedia Fan Fiction and Personal Branding...  "
      ]
     },
     "metadata": {},
     "output_type": "display_data"
    },
    {
     "name": "stdout",
     "output_type": "stream",
     "text": [
      "num_clusters 14\n",
      "Cluster 0: network, instagram, branding, art, instapoetry, photo, fan, fiction, movie, street\n",
      "Cluster 1: library, digital, museum, collection, public, inequality, skill, community, metadata, preservation\n",
      "Cluster 2: caf, phone, resident, use, non, based, survey, academic, university, faculty\n",
      "Cluster 3: medium, political, social, participation, politician, twitter, change, climate, hashtag, protest\n",
      "Cluster 4: internet, hiv, queer, authoritarian, censorship, computing, sustainability, surplus, broadband, asn\n",
      "Cluster 5: urban, printing, big, visualization, space, screen, data, citizen, science, gig\n",
      "Cluster 6: privacy, game, video, virtual, player, modding, modders, mod, gaming, multiplayer\n",
      "Cluster 7: money, purse, rural, nation, electronic, divide, cryptocurrencies, bank, payment, blockchain\n",
      "Cluster 8: access, publishing, scholarly, open, journal, monograph, publisher, oa, education, educational\n",
      "Cluster 9: wikipedia, trust, ai, learning, economy, gift, distance, education, tech, hi\n",
      "Cluster 10: music, online, news, journalist, fake, covid, pandemic, newspaper, distancing, coronavirus\n",
      "Cluster 11: emoji, bot, support, social, trolling, reddit, meme, mourning, hate, emoticon\n",
      "Cluster 12: search, disability, people, web, engine, accessibility, disabled, agent, scrolling, query\n",
      "Cluster 13: software, open, source, free, oic, content, patent, property, cyberinfrastructure, intellectual\n"
     ]
    }
   ],
   "source": [
    "# STEP 2: Cluster topics based on similarities of keywords to identify themes\n",
    "\n",
    "import matplotlib.pyplot as plt\n",
    "from sklearn.metrics import silhouette_score\n",
    "from sklearn.cluster import KMeans\n",
    "from sklearn.feature_extraction.text import TfidfVectorizer\n",
    "import numpy as np\n",
    "\n",
    "# Load the dataset\n",
    "df = topics_info_df\n",
    "display(df.head())\n",
    "\n",
    "# Use TF-IDF Vectorizer to convert text to feature vectors\n",
    "vectorizer = TfidfVectorizer(max_features=None, stop_words='english')\n",
    "X = vectorizer.fit_transform(df['Representation'])\n",
    "\n",
    "# Get number of clusters\n",
    "num_clusters = find_optimal_k(X, max_k=34)\n",
    "# num_clusters = 10\n",
    "print('num_clusters', num_clusters)\n",
    "\n",
    "# Apply KMeans clustering\n",
    "kmeans = KMeans(n_clusters=num_clusters, random_state=42)\n",
    "df['Cluster'] = kmeans.fit_predict(X)\n",
    "\n",
    "# Display the cluster centers and their terms\n",
    "terms = vectorizer.get_feature_names_out()\n",
    "order_centroids = kmeans.cluster_centers_.argsort()[:, ::-1]\n",
    "cluster_terms = []\n",
    "\n",
    "for i in range(num_clusters):\n",
    "    cluster_terms.append([terms[ind] for ind in order_centroids[i, :10]])  # Top 10 terms per cluster\n",
    "\n",
    "# Show the top terms for each cluster\n",
    "for i, terms in enumerate(cluster_terms):\n",
    "    print(f\"Cluster {i}: {', '.join(terms)}\")\n",
    "\n",
    "# Add cluster terms to the DataFrame to understand topics in each cluster\n",
    "df['Cluster_Terms'] = df['Cluster'].map(lambda x: cluster_terms[x])\n",
    "\n",
    "# Display the resulting DataFrame with clusters and top terms for each cluster\n",
    "# df[['Topic', 'Count', 'Name', 'Cluster', 'Cluster_Terms']]\n",
    "\n",
    "# display(df)\n",
    "topics_info_df = df"
   ]
  },
  {
   "cell_type": "code",
   "execution_count": 8,
   "metadata": {},
   "outputs": [
    {
     "data": {
      "text/html": [
       "<div>\n",
       "<style scoped>\n",
       "    .dataframe tbody tr th:only-of-type {\n",
       "        vertical-align: middle;\n",
       "    }\n",
       "\n",
       "    .dataframe tbody tr th {\n",
       "        vertical-align: top;\n",
       "    }\n",
       "\n",
       "    .dataframe thead th {\n",
       "        text-align: right;\n",
       "    }\n",
       "</style>\n",
       "<table border=\"1\" class=\"dataframe\">\n",
       "  <thead>\n",
       "    <tr style=\"text-align: right;\">\n",
       "      <th></th>\n",
       "      <th>Cluster</th>\n",
       "      <th>Cluster_Terms</th>\n",
       "      <th>Cluster_Representation</th>\n",
       "      <th>Cluster_Count</th>\n",
       "      <th>Cluster_%</th>\n",
       "    </tr>\n",
       "  </thead>\n",
       "  <tbody>\n",
       "    <tr>\n",
       "      <th>0</th>\n",
       "      <td>0</td>\n",
       "      <td>network, instagram, branding, art, instapoetry...</td>\n",
       "      <td>['transmedia', 'fan', 'fiction', 'street art',...</td>\n",
       "      <td>140</td>\n",
       "      <td>5.80</td>\n",
       "    </tr>\n",
       "    <tr>\n",
       "      <th>1</th>\n",
       "      <td>1</td>\n",
       "      <td>library, digital, museum, collection, public, ...</td>\n",
       "      <td>['digital skill', 'elderly', 'digital inequali...</td>\n",
       "      <td>206</td>\n",
       "      <td>8.54</td>\n",
       "    </tr>\n",
       "    <tr>\n",
       "      <th>2</th>\n",
       "      <td>2</td>\n",
       "      <td>caf, phone, resident, use, non, based, survey,...</td>\n",
       "      <td>['student', 'academic', 'university', 'faculty...</td>\n",
       "      <td>101</td>\n",
       "      <td>4.19</td>\n",
       "    </tr>\n",
       "    <tr>\n",
       "      <th>3</th>\n",
       "      <td>3</td>\n",
       "      <td>medium, political, social, participation, poli...</td>\n",
       "      <td>['twitter', 'tweet', 'political', 'social medi...</td>\n",
       "      <td>215</td>\n",
       "      <td>8.91</td>\n",
       "    </tr>\n",
       "    <tr>\n",
       "      <th>4</th>\n",
       "      <td>4</td>\n",
       "      <td>internet, hiv, queer, authoritarian, censorshi...</td>\n",
       "      <td>['queer', 'shame', 'hiv', 'woman', 'gender', '...</td>\n",
       "      <td>333</td>\n",
       "      <td>13.80</td>\n",
       "    </tr>\n",
       "    <tr>\n",
       "      <th>5</th>\n",
       "      <td>5</td>\n",
       "      <td>urban, printing, big, visualization, space, sc...</td>\n",
       "      <td>['urban', 'city', 'screen', 'urban screen', 'f...</td>\n",
       "      <td>97</td>\n",
       "      <td>4.02</td>\n",
       "    </tr>\n",
       "    <tr>\n",
       "      <th>6</th>\n",
       "      <td>6</td>\n",
       "      <td>privacy, game, video, virtual, player, modding...</td>\n",
       "      <td>['game', 'virtual world', 'video game', 'gamin...</td>\n",
       "      <td>122</td>\n",
       "      <td>5.06</td>\n",
       "    </tr>\n",
       "    <tr>\n",
       "      <th>7</th>\n",
       "      <td>7</td>\n",
       "      <td>money, purse, rural, nation, electronic, divid...</td>\n",
       "      <td>['e-money', 'blockchain', 'bank', 'cash', 'cry...</td>\n",
       "      <td>119</td>\n",
       "      <td>4.93</td>\n",
       "    </tr>\n",
       "    <tr>\n",
       "      <th>8</th>\n",
       "      <td>8</td>\n",
       "      <td>access, publishing, scholarly, open, journal, ...</td>\n",
       "      <td>['journal', 'publishing', 'open access', 'scho...</td>\n",
       "      <td>106</td>\n",
       "      <td>4.39</td>\n",
       "    </tr>\n",
       "    <tr>\n",
       "      <th>9</th>\n",
       "      <td>9</td>\n",
       "      <td>wikipedia, trust, ai, learning, economy, gift,...</td>\n",
       "      <td>['education', 'learning', 'distance education'...</td>\n",
       "      <td>329</td>\n",
       "      <td>13.63</td>\n",
       "    </tr>\n",
       "    <tr>\n",
       "      <th>10</th>\n",
       "      <td>10</td>\n",
       "      <td>music, online, news, journalist, fake, covid, ...</td>\n",
       "      <td>['music', 'copyright', 'napster', 'music indus...</td>\n",
       "      <td>164</td>\n",
       "      <td>6.80</td>\n",
       "    </tr>\n",
       "    <tr>\n",
       "      <th>11</th>\n",
       "      <td>11</td>\n",
       "      <td>emoji, bot, support, social, trolling, reddit,...</td>\n",
       "      <td>['bot', 'qanon', 'troll', 'election', 'disinfo...</td>\n",
       "      <td>222</td>\n",
       "      <td>9.20</td>\n",
       "    </tr>\n",
       "    <tr>\n",
       "      <th>12</th>\n",
       "      <td>12</td>\n",
       "      <td>search, disability, people, web, engine, acces...</td>\n",
       "      <td>['disability', 'accessibility', 'web accessibi...</td>\n",
       "      <td>114</td>\n",
       "      <td>4.72</td>\n",
       "    </tr>\n",
       "    <tr>\n",
       "      <th>13</th>\n",
       "      <td>13</td>\n",
       "      <td>software, open, source, free, oic, content, pa...</td>\n",
       "      <td>['open source', 'floss', 'linux', 'source soft...</td>\n",
       "      <td>145</td>\n",
       "      <td>6.01</td>\n",
       "    </tr>\n",
       "  </tbody>\n",
       "</table>\n",
       "</div>"
      ],
      "text/plain": [
       "    Cluster                                      Cluster_Terms  \\\n",
       "0         0  network, instagram, branding, art, instapoetry...   \n",
       "1         1  library, digital, museum, collection, public, ...   \n",
       "2         2  caf, phone, resident, use, non, based, survey,...   \n",
       "3         3  medium, political, social, participation, poli...   \n",
       "4         4  internet, hiv, queer, authoritarian, censorshi...   \n",
       "5         5  urban, printing, big, visualization, space, sc...   \n",
       "6         6  privacy, game, video, virtual, player, modding...   \n",
       "7         7  money, purse, rural, nation, electronic, divid...   \n",
       "8         8  access, publishing, scholarly, open, journal, ...   \n",
       "9         9  wikipedia, trust, ai, learning, economy, gift,...   \n",
       "10       10  music, online, news, journalist, fake, covid, ...   \n",
       "11       11  emoji, bot, support, social, trolling, reddit,...   \n",
       "12       12  search, disability, people, web, engine, acces...   \n",
       "13       13  software, open, source, free, oic, content, pa...   \n",
       "\n",
       "                               Cluster_Representation  Cluster_Count  \\\n",
       "0   ['transmedia', 'fan', 'fiction', 'street art',...            140   \n",
       "1   ['digital skill', 'elderly', 'digital inequali...            206   \n",
       "2   ['student', 'academic', 'university', 'faculty...            101   \n",
       "3   ['twitter', 'tweet', 'political', 'social medi...            215   \n",
       "4   ['queer', 'shame', 'hiv', 'woman', 'gender', '...            333   \n",
       "5   ['urban', 'city', 'screen', 'urban screen', 'f...             97   \n",
       "6   ['game', 'virtual world', 'video game', 'gamin...            122   \n",
       "7   ['e-money', 'blockchain', 'bank', 'cash', 'cry...            119   \n",
       "8   ['journal', 'publishing', 'open access', 'scho...            106   \n",
       "9   ['education', 'learning', 'distance education'...            329   \n",
       "10  ['music', 'copyright', 'napster', 'music indus...            164   \n",
       "11  ['bot', 'qanon', 'troll', 'election', 'disinfo...            222   \n",
       "12  ['disability', 'accessibility', 'web accessibi...            114   \n",
       "13  ['open source', 'floss', 'linux', 'source soft...            145   \n",
       "\n",
       "    Cluster_%  \n",
       "0        5.80  \n",
       "1        8.54  \n",
       "2        4.19  \n",
       "3        8.91  \n",
       "4       13.80  \n",
       "5        4.02  \n",
       "6        5.06  \n",
       "7        4.93  \n",
       "8        4.39  \n",
       "9       13.63  \n",
       "10       6.80  \n",
       "11       9.20  \n",
       "12       4.72  \n",
       "13       6.01  "
      ]
     },
     "metadata": {},
     "output_type": "display_data"
    }
   ],
   "source": [
    "# STEP 3: Identify themes\n",
    "theme_df = topics_info_df[['Cluster','Cluster_Terms','Representation','Count']]\n",
    "theme_df = theme_df.rename(columns={\n",
    "    'Representation': 'Cluster_Representation',\n",
    "    'Count': 'Cluster_Count'\n",
    "})\n",
    "\n",
    "# Convert 'Cluster_Terms' and 'Representation' columns from lists to strings\n",
    "theme_df['Cluster_Terms'] = theme_df['Cluster_Terms'].apply(lambda x: ', '.join(x) if isinstance(x, list) else str(x))\n",
    "theme_df['Cluster_Representation'] = theme_df['Cluster_Representation'].apply(lambda x: ', '.join(x) if isinstance(x, list) else str(x))\n",
    "\n",
    "# Group by 'Cluster' and aggregate 'Representation'\n",
    "theme_df = theme_df.groupby(['Cluster', 'Cluster_Terms']).agg({\n",
    "    'Cluster_Representation': lambda reps: ', '.join(reps),\n",
    "    'Cluster_Count': 'sum'\n",
    "}).reset_index()\n",
    "\n",
    "# Calculate the total count of all clusters\n",
    "total_count = theme_df['Cluster_Count'].sum()\n",
    "\n",
    "# Add the 'Cluster_%' column as the percentage of each cluster relative to the total count\n",
    "theme_df['Cluster_%'] = theme_df['Cluster_Count'] / total_count * 100\n",
    "\n",
    "# Optional: round the percentage values to two decimal places\n",
    "theme_df['Cluster_%'] = theme_df['Cluster_%'].round(2)\n",
    "\n",
    "# Verify the cleaned DataFrame\n",
    "display(theme_df)\n",
    "theme_df.to_excel('results/themes_info.xlsx', index=False)"
   ]
  },
  {
   "cell_type": "code",
   "execution_count": 9,
   "metadata": {},
   "outputs": [],
   "source": [
    "# # STEP 3.1: Clean keywords for LLM input i.e. remove duplicate, lemmatize, remove special characters, etc.\n",
    "# import pandas as pd\n",
    "# import ast\n",
    "# from nltk.corpus import wordnet\n",
    "# from nltk.stem import WordNetLemmatizer\n",
    "# import re\n",
    "# import string\n",
    "\n",
    "\n",
    "# df = theme_df\n",
    "\n",
    "# # Function to flatten all levels of nested lists\n",
    "# def flatten_nested_list(nested_list):\n",
    "#     # Ensure it is a list before attempting to flatten\n",
    "#     flat_list = []\n",
    "#     if isinstance(nested_list, list):\n",
    "#         for item in nested_list:\n",
    "#                 flat_list.append(item)\n",
    "#     else:\n",
    "#         return nested_list  # Return as-is if it's not a list\n",
    "#     return flat_list\n",
    "\n",
    "# # Apply the recursive flattening function to the DataFrame column\n",
    "# df['Cluster_Representation_Clean'] = df['Cluster_Representation'].apply(flatten_nested_list)\n",
    "\n",
    "# # Display the updated DataFrame\n",
    "# display(df)\n",
    "\n",
    "# df.to_excel('results/df.xlsx', index=False)\n",
    "# # display(theme_df)"
   ]
  },
  {
   "cell_type": "code",
   "execution_count": 10,
   "metadata": {},
   "outputs": [
    {
     "name": "stdout",
     "output_type": "stream",
     "text": [
      "[INFO] Generating semantic topics with LLM (this may take a while).\n"
     ]
    },
    {
     "name": "stderr",
     "output_type": "stream",
     "text": [
      "LLM Generation: 100%|██████████| 14/14 [00:18<00:00,  1.33s/it]\n"
     ]
    },
    {
     "data": {
      "text/html": [
       "<div>\n",
       "<style scoped>\n",
       "    .dataframe tbody tr th:only-of-type {\n",
       "        vertical-align: middle;\n",
       "    }\n",
       "\n",
       "    .dataframe tbody tr th {\n",
       "        vertical-align: top;\n",
       "    }\n",
       "\n",
       "    .dataframe thead th {\n",
       "        text-align: right;\n",
       "    }\n",
       "</style>\n",
       "<table border=\"1\" class=\"dataframe\">\n",
       "  <thead>\n",
       "    <tr style=\"text-align: right;\">\n",
       "      <th></th>\n",
       "      <th>Cluster</th>\n",
       "      <th>Cluster_Terms</th>\n",
       "      <th>Cluster_Representation</th>\n",
       "      <th>Cluster_Count</th>\n",
       "      <th>Cluster_%</th>\n",
       "      <th>Cluster_Terms_Representation</th>\n",
       "      <th>Semantic_Theme</th>\n",
       "    </tr>\n",
       "  </thead>\n",
       "  <tbody>\n",
       "    <tr>\n",
       "      <th>0</th>\n",
       "      <td>0</td>\n",
       "      <td>network, instagram, branding, art, instapoetry...</td>\n",
       "      <td>['transmedia', 'fan', 'fiction', 'street art',...</td>\n",
       "      <td>140</td>\n",
       "      <td>5.80</td>\n",
       "      <td>network, instagram, branding, art, instapoetry...</td>\n",
       "      <td>Digital Media Culture</td>\n",
       "    </tr>\n",
       "    <tr>\n",
       "      <th>1</th>\n",
       "      <td>1</td>\n",
       "      <td>library, digital, museum, collection, public, ...</td>\n",
       "      <td>['digital skill', 'elderly', 'digital inequali...</td>\n",
       "      <td>206</td>\n",
       "      <td>8.54</td>\n",
       "      <td>library, digital, museum, collection, public, ...</td>\n",
       "      <td>Digital Inequality Research</td>\n",
       "    </tr>\n",
       "    <tr>\n",
       "      <th>2</th>\n",
       "      <td>2</td>\n",
       "      <td>caf, phone, resident, use, non, based, survey,...</td>\n",
       "      <td>['student', 'academic', 'university', 'faculty...</td>\n",
       "      <td>101</td>\n",
       "      <td>4.19</td>\n",
       "      <td>caf, phone, resident, use, non, based, survey,...</td>\n",
       "      <td>Digital Divide Research</td>\n",
       "    </tr>\n",
       "    <tr>\n",
       "      <th>3</th>\n",
       "      <td>3</td>\n",
       "      <td>medium, political, social, participation, poli...</td>\n",
       "      <td>['twitter', 'tweet', 'political', 'social medi...</td>\n",
       "      <td>215</td>\n",
       "      <td>8.91</td>\n",
       "      <td>medium, political, social, participation, poli...</td>\n",
       "      <td>Social Media Politics</td>\n",
       "    </tr>\n",
       "    <tr>\n",
       "      <th>4</th>\n",
       "      <td>4</td>\n",
       "      <td>internet, hiv, queer, authoritarian, censorshi...</td>\n",
       "      <td>['queer', 'shame', 'hiv', 'woman', 'gender', '...</td>\n",
       "      <td>333</td>\n",
       "      <td>13.80</td>\n",
       "      <td>internet, hiv, queer, authoritarian, censorshi...</td>\n",
       "      <td>Digital Governance Studies</td>\n",
       "    </tr>\n",
       "    <tr>\n",
       "      <th>5</th>\n",
       "      <td>5</td>\n",
       "      <td>urban, printing, big, visualization, space, sc...</td>\n",
       "      <td>['urban', 'city', 'screen', 'urban screen', 'f...</td>\n",
       "      <td>97</td>\n",
       "      <td>4.02</td>\n",
       "      <td>urban, printing, big, visualization, space, sc...</td>\n",
       "      <td>Urban Data Visualization</td>\n",
       "    </tr>\n",
       "    <tr>\n",
       "      <th>6</th>\n",
       "      <td>6</td>\n",
       "      <td>privacy, game, video, virtual, player, modding...</td>\n",
       "      <td>['game', 'virtual world', 'video game', 'gamin...</td>\n",
       "      <td>122</td>\n",
       "      <td>5.06</td>\n",
       "      <td>privacy, game, video, virtual, player, modding...</td>\n",
       "      <td>Virtual Gaming Privacy</td>\n",
       "    </tr>\n",
       "    <tr>\n",
       "      <th>7</th>\n",
       "      <td>7</td>\n",
       "      <td>money, purse, rural, nation, electronic, divid...</td>\n",
       "      <td>['e-money', 'blockchain', 'bank', 'cash', 'cry...</td>\n",
       "      <td>119</td>\n",
       "      <td>4.93</td>\n",
       "      <td>money, purse, rural, nation, electronic, divid...</td>\n",
       "      <td>Digital Financial Inclusion</td>\n",
       "    </tr>\n",
       "    <tr>\n",
       "      <th>8</th>\n",
       "      <td>8</td>\n",
       "      <td>access, publishing, scholarly, open, journal, ...</td>\n",
       "      <td>['journal', 'publishing', 'open access', 'scho...</td>\n",
       "      <td>106</td>\n",
       "      <td>4.39</td>\n",
       "      <td>access, publishing, scholarly, open, journal, ...</td>\n",
       "      <td>Open Access Publishing</td>\n",
       "    </tr>\n",
       "    <tr>\n",
       "      <th>9</th>\n",
       "      <td>9</td>\n",
       "      <td>wikipedia, trust, ai, learning, economy, gift,...</td>\n",
       "      <td>['education', 'learning', 'distance education'...</td>\n",
       "      <td>329</td>\n",
       "      <td>13.63</td>\n",
       "      <td>wikipedia, trust, ai, learning, economy, gift,...</td>\n",
       "      <td>Technology Enhanced Education</td>\n",
       "    </tr>\n",
       "    <tr>\n",
       "      <th>10</th>\n",
       "      <td>10</td>\n",
       "      <td>music, online, news, journalist, fake, covid, ...</td>\n",
       "      <td>['music', 'copyright', 'napster', 'music indus...</td>\n",
       "      <td>164</td>\n",
       "      <td>6.80</td>\n",
       "      <td>music, online, news, journalist, fake, covid, ...</td>\n",
       "      <td>Digital Media Studies</td>\n",
       "    </tr>\n",
       "    <tr>\n",
       "      <th>11</th>\n",
       "      <td>11</td>\n",
       "      <td>emoji, bot, support, social, trolling, reddit,...</td>\n",
       "      <td>['bot', 'qanon', 'troll', 'election', 'disinfo...</td>\n",
       "      <td>222</td>\n",
       "      <td>9.20</td>\n",
       "      <td>emoji, bot, support, social, trolling, reddit,...</td>\n",
       "      <td>Social Media Misbehavior</td>\n",
       "    </tr>\n",
       "    <tr>\n",
       "      <th>12</th>\n",
       "      <td>12</td>\n",
       "      <td>search, disability, people, web, engine, acces...</td>\n",
       "      <td>['disability', 'accessibility', 'web accessibi...</td>\n",
       "      <td>114</td>\n",
       "      <td>4.72</td>\n",
       "      <td>search, disability, people, web, engine, acces...</td>\n",
       "      <td>Web Accessibility Research</td>\n",
       "    </tr>\n",
       "    <tr>\n",
       "      <th>13</th>\n",
       "      <td>13</td>\n",
       "      <td>software, open, source, free, oic, content, pa...</td>\n",
       "      <td>['open source', 'floss', 'linux', 'source soft...</td>\n",
       "      <td>145</td>\n",
       "      <td>6.01</td>\n",
       "      <td>software, open, source, free, oic, content, pa...</td>\n",
       "      <td>Open Source Software</td>\n",
       "    </tr>\n",
       "  </tbody>\n",
       "</table>\n",
       "</div>"
      ],
      "text/plain": [
       "    Cluster                                      Cluster_Terms  \\\n",
       "0         0  network, instagram, branding, art, instapoetry...   \n",
       "1         1  library, digital, museum, collection, public, ...   \n",
       "2         2  caf, phone, resident, use, non, based, survey,...   \n",
       "3         3  medium, political, social, participation, poli...   \n",
       "4         4  internet, hiv, queer, authoritarian, censorshi...   \n",
       "5         5  urban, printing, big, visualization, space, sc...   \n",
       "6         6  privacy, game, video, virtual, player, modding...   \n",
       "7         7  money, purse, rural, nation, electronic, divid...   \n",
       "8         8  access, publishing, scholarly, open, journal, ...   \n",
       "9         9  wikipedia, trust, ai, learning, economy, gift,...   \n",
       "10       10  music, online, news, journalist, fake, covid, ...   \n",
       "11       11  emoji, bot, support, social, trolling, reddit,...   \n",
       "12       12  search, disability, people, web, engine, acces...   \n",
       "13       13  software, open, source, free, oic, content, pa...   \n",
       "\n",
       "                               Cluster_Representation  Cluster_Count  \\\n",
       "0   ['transmedia', 'fan', 'fiction', 'street art',...            140   \n",
       "1   ['digital skill', 'elderly', 'digital inequali...            206   \n",
       "2   ['student', 'academic', 'university', 'faculty...            101   \n",
       "3   ['twitter', 'tweet', 'political', 'social medi...            215   \n",
       "4   ['queer', 'shame', 'hiv', 'woman', 'gender', '...            333   \n",
       "5   ['urban', 'city', 'screen', 'urban screen', 'f...             97   \n",
       "6   ['game', 'virtual world', 'video game', 'gamin...            122   \n",
       "7   ['e-money', 'blockchain', 'bank', 'cash', 'cry...            119   \n",
       "8   ['journal', 'publishing', 'open access', 'scho...            106   \n",
       "9   ['education', 'learning', 'distance education'...            329   \n",
       "10  ['music', 'copyright', 'napster', 'music indus...            164   \n",
       "11  ['bot', 'qanon', 'troll', 'election', 'disinfo...            222   \n",
       "12  ['disability', 'accessibility', 'web accessibi...            114   \n",
       "13  ['open source', 'floss', 'linux', 'source soft...            145   \n",
       "\n",
       "    Cluster_%                       Cluster_Terms_Representation  \\\n",
       "0        5.80  network, instagram, branding, art, instapoetry...   \n",
       "1        8.54  library, digital, museum, collection, public, ...   \n",
       "2        4.19  caf, phone, resident, use, non, based, survey,...   \n",
       "3        8.91  medium, political, social, participation, poli...   \n",
       "4       13.80  internet, hiv, queer, authoritarian, censorshi...   \n",
       "5        4.02  urban, printing, big, visualization, space, sc...   \n",
       "6        5.06  privacy, game, video, virtual, player, modding...   \n",
       "7        4.93  money, purse, rural, nation, electronic, divid...   \n",
       "8        4.39  access, publishing, scholarly, open, journal, ...   \n",
       "9       13.63  wikipedia, trust, ai, learning, economy, gift,...   \n",
       "10       6.80  music, online, news, journalist, fake, covid, ...   \n",
       "11       9.20  emoji, bot, support, social, trolling, reddit,...   \n",
       "12       4.72  search, disability, people, web, engine, acces...   \n",
       "13       6.01  software, open, source, free, oic, content, pa...   \n",
       "\n",
       "                   Semantic_Theme  \n",
       "0           Digital Media Culture  \n",
       "1     Digital Inequality Research  \n",
       "2         Digital Divide Research  \n",
       "3           Social Media Politics  \n",
       "4      Digital Governance Studies  \n",
       "5        Urban Data Visualization  \n",
       "6          Virtual Gaming Privacy  \n",
       "7     Digital Financial Inclusion  \n",
       "8          Open Access Publishing  \n",
       "9   Technology Enhanced Education  \n",
       "10          Digital Media Studies  \n",
       "11       Social Media Misbehavior  \n",
       "12     Web Accessibility Research  \n",
       "13           Open Source Software  "
      ]
     },
     "metadata": {},
     "output_type": "display_data"
    }
   ],
   "source": [
    "# STEP 4: Choose an LLM client for semantic topic generation (example: Together)\n",
    "llm_client = TogetherAISemanticTopicClient(\"config/config.json\")\n",
    "\n",
    "theme_df ['Cluster_Terms_Representation'] = theme_df['Cluster_Terms'] + ' ' + theme_df['Cluster_Representation']\n",
    "\n",
    "# STEP 5: Add semantic topics to the topic_info_df\n",
    "theme_df = SemanticTopicDataFrameProcessor.add_semantic_topic_column(\n",
    "    df=theme_df,\n",
    "    semantic_topic_generator=llm_client,\n",
    "    name_col=\"Cluster\",\n",
    "    representation_col=\"Cluster_Terms_Representation\",\n",
    "    output_col=\"Semantic_Theme\"\n",
    ")\n",
    "\n",
    "display(theme_df)\n",
    "theme_df.to_excel('results/themes_info.xlsx', index=False)"
   ]
  },
  {
   "cell_type": "code",
   "execution_count": 11,
   "metadata": {},
   "outputs": [
    {
     "data": {
      "text/html": [
       "<div>\n",
       "<style scoped>\n",
       "    .dataframe tbody tr th:only-of-type {\n",
       "        vertical-align: middle;\n",
       "    }\n",
       "\n",
       "    .dataframe tbody tr th {\n",
       "        vertical-align: top;\n",
       "    }\n",
       "\n",
       "    .dataframe thead th {\n",
       "        text-align: right;\n",
       "    }\n",
       "</style>\n",
       "<table border=\"1\" class=\"dataframe\">\n",
       "  <thead>\n",
       "    <tr style=\"text-align: right;\">\n",
       "      <th></th>\n",
       "      <th>Topic</th>\n",
       "      <th>Count</th>\n",
       "      <th>CustomName</th>\n",
       "      <th>Semantic_Topic</th>\n",
       "      <th>Cluster</th>\n",
       "      <th>Cluster_Terms_Representation</th>\n",
       "      <th>Semantic_Theme</th>\n",
       "    </tr>\n",
       "  </thead>\n",
       "  <tbody>\n",
       "    <tr>\n",
       "      <th>0</th>\n",
       "      <td>0</td>\n",
       "      <td>87</td>\n",
       "      <td>open source, floss, linux, source software, op...</td>\n",
       "      <td>0 Open Source Software Development and Free Li...</td>\n",
       "      <td>13</td>\n",
       "      <td>software, open, source, free, oic, content, pa...</td>\n",
       "      <td>Open Source Software</td>\n",
       "    </tr>\n",
       "    <tr>\n",
       "      <th>1</th>\n",
       "      <td>1</td>\n",
       "      <td>34</td>\n",
       "      <td>digital skill, elderly, digital inequality, sk...</td>\n",
       "      <td>1 Digital Inequality Among Older Adults</td>\n",
       "      <td>1</td>\n",
       "      <td>library, digital, museum, collection, public, ...</td>\n",
       "      <td>Digital Inequality Research</td>\n",
       "    </tr>\n",
       "  </tbody>\n",
       "</table>\n",
       "</div>"
      ],
      "text/plain": [
       "   Topic  Count                                         CustomName  \\\n",
       "0      0     87  open source, floss, linux, source software, op...   \n",
       "1      1     34  digital skill, elderly, digital inequality, sk...   \n",
       "\n",
       "                                      Semantic_Topic  Cluster  \\\n",
       "0  0 Open Source Software Development and Free Li...       13   \n",
       "1            1 Digital Inequality Among Older Adults        1   \n",
       "\n",
       "                        Cluster_Terms_Representation  \\\n",
       "0  software, open, source, free, oic, content, pa...   \n",
       "1  library, digital, museum, collection, public, ...   \n",
       "\n",
       "                Semantic_Theme  \n",
       "0         Open Source Software  \n",
       "1  Digital Inequality Research  "
      ]
     },
     "metadata": {},
     "output_type": "display_data"
    }
   ],
   "source": [
    "# STEP 5: Merged Topics, Clusters with Over Time data\n",
    "df_topic = topics_info_df\n",
    "df_topic = df_topic.drop(['Cluster_Terms', 'Name', 'Representation', 'Representative_Docs', 'Document_%'], axis=1)\n",
    "\n",
    "df_theme= theme_df\n",
    "df_theme = df_theme.drop(['Cluster_Terms', 'Cluster_Representation', 'Cluster_Count', 'Cluster_%'], axis=1)\n",
    "\n",
    "df_topic_theme = pd.merge(df_topic, df_theme, on=\"Cluster\", how=\"left\")\n",
    "display(df_topic_theme.head(2))"
   ]
  },
  {
   "cell_type": "code",
   "execution_count": 12,
   "metadata": {},
   "outputs": [
    {
     "data": {
      "text/html": [
       "<div>\n",
       "<style scoped>\n",
       "    .dataframe tbody tr th:only-of-type {\n",
       "        vertical-align: middle;\n",
       "    }\n",
       "\n",
       "    .dataframe tbody tr th {\n",
       "        vertical-align: top;\n",
       "    }\n",
       "\n",
       "    .dataframe thead th {\n",
       "        text-align: right;\n",
       "    }\n",
       "</style>\n",
       "<table border=\"1\" class=\"dataframe\">\n",
       "  <thead>\n",
       "    <tr style=\"text-align: right;\">\n",
       "      <th></th>\n",
       "      <th>Topic</th>\n",
       "      <th>Words</th>\n",
       "      <th>Frequency</th>\n",
       "      <th>Timestamp</th>\n",
       "      <th>Count</th>\n",
       "      <th>CustomName</th>\n",
       "      <th>Semantic_Topic</th>\n",
       "      <th>Cluster</th>\n",
       "      <th>Cluster_Terms_Representation</th>\n",
       "      <th>Semantic_Theme</th>\n",
       "    </tr>\n",
       "  </thead>\n",
       "  <tbody>\n",
       "    <tr>\n",
       "      <th>0</th>\n",
       "      <td>1</td>\n",
       "      <td>internet-based research, subject ., researcher...</td>\n",
       "      <td>1</td>\n",
       "      <td>1995-12-21 08:19:40.800</td>\n",
       "      <td>34</td>\n",
       "      <td>digital skill, elderly, digital inequality, sk...</td>\n",
       "      <td>1 Digital Inequality Among Older Adults</td>\n",
       "      <td>1</td>\n",
       "      <td>library, digital, museum, collection, public, ...</td>\n",
       "      <td>Digital Inequality Research</td>\n",
       "    </tr>\n",
       "    <tr>\n",
       "      <th>1</th>\n",
       "      <td>3</td>\n",
       "      <td>cgi, perl, , cgi, cgi ,, perl ,</td>\n",
       "      <td>3</td>\n",
       "      <td>1995-12-21 08:19:40.800</td>\n",
       "      <td>49</td>\n",
       "      <td>public library, library, public, patron, libra...</td>\n",
       "      <td>3 Public Library Services and Community Engage...</td>\n",
       "      <td>1</td>\n",
       "      <td>library, digital, museum, collection, public, ...</td>\n",
       "      <td>Digital Inequality Research</td>\n",
       "    </tr>\n",
       "    <tr>\n",
       "      <th>2</th>\n",
       "      <td>4</td>\n",
       "      <td>amv, amv scene, fan production, scene, . reward</td>\n",
       "      <td>3</td>\n",
       "      <td>1995-12-21 08:19:40.800</td>\n",
       "      <td>64</td>\n",
       "      <td>transmedia, fan, fiction, street art, photo, i...</td>\n",
       "      <td>4 Transmedia Fan Fiction and Personal Branding...</td>\n",
       "      <td>0</td>\n",
       "      <td>network, instagram, branding, art, instapoetry...</td>\n",
       "      <td>Digital Media Culture</td>\n",
       "    </tr>\n",
       "    <tr>\n",
       "      <th>3</th>\n",
       "      <td>5</td>\n",
       "      <td>cash, digital cash, electronic cash, cash , el...</td>\n",
       "      <td>3</td>\n",
       "      <td>1995-12-21 08:19:40.800</td>\n",
       "      <td>36</td>\n",
       "      <td>e-money, blockchain, bank, cash, cryptocurrenc...</td>\n",
       "      <td>5 Digital Currencies and Electronic Payment Sy...</td>\n",
       "      <td>7</td>\n",
       "      <td>money, purse, rural, nation, electronic, divid...</td>\n",
       "      <td>Digital Financial Inclusion</td>\n",
       "    </tr>\n",
       "    <tr>\n",
       "      <th>4</th>\n",
       "      <td>6</td>\n",
       "      <td>kid ,, kid, book review, child , internet, 's ...</td>\n",
       "      <td>1</td>\n",
       "      <td>1995-12-21 08:19:40.800</td>\n",
       "      <td>125</td>\n",
       "      <td>education, learning, distance education, stude...</td>\n",
       "      <td>6 Distance Education and Open Educational Reso...</td>\n",
       "      <td>9</td>\n",
       "      <td>wikipedia, trust, ai, learning, economy, gift,...</td>\n",
       "      <td>Technology Enhanced Education</td>\n",
       "    </tr>\n",
       "  </tbody>\n",
       "</table>\n",
       "</div>"
      ],
      "text/plain": [
       "   Topic                                              Words  Frequency  \\\n",
       "0      1  internet-based research, subject ., researcher...          1   \n",
       "1      3                    cgi, perl, , cgi, cgi ,, perl ,          3   \n",
       "2      4    amv, amv scene, fan production, scene, . reward          3   \n",
       "3      5  cash, digital cash, electronic cash, cash , el...          3   \n",
       "4      6  kid ,, kid, book review, child , internet, 's ...          1   \n",
       "\n",
       "                Timestamp  Count  \\\n",
       "0 1995-12-21 08:19:40.800     34   \n",
       "1 1995-12-21 08:19:40.800     49   \n",
       "2 1995-12-21 08:19:40.800     64   \n",
       "3 1995-12-21 08:19:40.800     36   \n",
       "4 1995-12-21 08:19:40.800    125   \n",
       "\n",
       "                                          CustomName  \\\n",
       "0  digital skill, elderly, digital inequality, sk...   \n",
       "1  public library, library, public, patron, libra...   \n",
       "2  transmedia, fan, fiction, street art, photo, i...   \n",
       "3  e-money, blockchain, bank, cash, cryptocurrenc...   \n",
       "4  education, learning, distance education, stude...   \n",
       "\n",
       "                                      Semantic_Topic  Cluster  \\\n",
       "0            1 Digital Inequality Among Older Adults        1   \n",
       "1  3 Public Library Services and Community Engage...        1   \n",
       "2  4 Transmedia Fan Fiction and Personal Branding...        0   \n",
       "3  5 Digital Currencies and Electronic Payment Sy...        7   \n",
       "4  6 Distance Education and Open Educational Reso...        9   \n",
       "\n",
       "                        Cluster_Terms_Representation  \\\n",
       "0  library, digital, museum, collection, public, ...   \n",
       "1  library, digital, museum, collection, public, ...   \n",
       "2  network, instagram, branding, art, instapoetry...   \n",
       "3  money, purse, rural, nation, electronic, divid...   \n",
       "4  wikipedia, trust, ai, learning, economy, gift,...   \n",
       "\n",
       "                  Semantic_Theme  \n",
       "0    Digital Inequality Research  \n",
       "1    Digital Inequality Research  \n",
       "2          Digital Media Culture  \n",
       "3    Digital Financial Inclusion  \n",
       "4  Technology Enhanced Education  "
      ]
     },
     "metadata": {},
     "output_type": "display_data"
    }
   ],
   "source": [
    "df_topic_over_time = topics_over_time_df\n",
    "df_topic_over_time = df_topic_over_time.drop(['Semantic_Topic','Name'], axis=1)\n",
    "\n",
    "df_themes_over_time = pd.merge(df_topic_over_time, df_topic_theme, on=\"Topic\", how=\"left\")\n",
    "display(df_themes_over_time.head())"
   ]
  },
  {
   "cell_type": "code",
   "execution_count": 13,
   "metadata": {},
   "outputs": [],
   "source": [
    "# STEP 6: Export the DataFrame to Excel\n",
    "df_themes_over_time.to_excel('results/themes_over_time.xlsx', index=False)\n",
    "df_topic_theme.to_excel('results/topics_themes.xlsx', index=False)"
   ]
  },
  {
   "cell_type": "code",
   "execution_count": 14,
   "metadata": {},
   "outputs": [],
   "source": [
    "# STEP 7: Visualization"
   ]
  },
  {
   "cell_type": "code",
   "execution_count": 15,
   "metadata": {},
   "outputs": [
    {
     "data": {
      "image/png": "[encoded data removed]",
      "text/plain": [
       "<Figure size 800x500 with 2 Axes>"
      ]
     },
     "metadata": {},
     "output_type": "display_data"
    }
   ],
   "source": [
    "def visualize_topics_heatmap_year_sorted(df):\n",
    "    import seaborn as sns\n",
    "    import matplotlib.pyplot as plt\n",
    "    import matplotlib.colors as mcolors\n",
    "    import pandas as pd\n",
    "    \n",
    "    # Ensure Timestamp is in datetime format\n",
    "    df['Timestamp'] = pd.to_datetime(df['Timestamp'])\n",
    "    df['Year'] = df['Timestamp'].dt.year\n",
    "\n",
    "    # Pivot the data: rows as Semantic_Topic, columns as Year, aggregating Frequency by sum\n",
    "    df['Frequency'] = pd.to_numeric(df['Frequency'], errors='coerce')\n",
    "    pivot_df = df.pivot_table(index='Semantic_Theme', columns='Year', values='Frequency', aggfunc='sum', fill_value=0)\n",
    "    \n",
    "    # Identify the latest year and sort topics by frequency in that year (descending)\n",
    "    latest_year = pivot_df.columns.max()\n",
    "    pivot_df = pivot_df.sort_values(by=latest_year, ascending=False)\n",
    "    \n",
    "    # Create a custom colormap from gray (low values) to green (high values)\n",
    "    cmap = mcolors.LinearSegmentedColormap.from_list(\"custom_gray_green\", [\"white\", \"red\"])\n",
    "    \n",
    "    plt.figure(figsize=(8,5))\n",
    "    sns.heatmap(pivot_df, cmap=cmap, cbar_kws={'label': 'Frequency'})\n",
    "    plt.xlabel('Year')\n",
    "    plt.ylabel('Semantic_Theme')\n",
    "    plt.title(f'Heatmap of Themes Frequency Over Time (Sorted by {latest_year} Popularity)')\n",
    "    plt.show()\n",
    "\n",
    "# Usage\n",
    "visualize_topics_heatmap_year_sorted(df_themes_over_time)"
   ]
  },
  {
   "cell_type": "code",
   "execution_count": 16,
   "metadata": {},
   "outputs": [
    {
     "data": {
      "application/vnd.plotly.v1+json": {
       "config": {
        "plotlyServerURL": "https://plot.ly"
       },
       "data": [
        {
         "hoverinfo": "x+y+name",
         "line": {
          "width": 0.5
         },
         "mode": "lines",
         "name": "Digital Divide Research",
         "stackgroup": "one",
         "type": "scatter",
         "x": {
          "bdata": "ywcAAMwHAADNBwAAzgcAAM8HAADQBwAA0QcAANIHAADTBwAA1AcAANUHAADWBwAA1wcAANgHAADZBwAA2gcAANsHAADcBwAA3QcAAN4HAADfBwAA4AcAAOEHAADiBwAA4wcAAOQHAADlBwAA5gcAAOcHAADoBwAA",
          "dtype": "i4"
         },
         "y": {
          "bdata": "AQIAAAIBAAMAAgUGAgYCBAQDAhAMBAQIBAQBAQIA",
          "dtype": "i1"
         }
        },
        {
         "hoverinfo": "x+y+name",
         "line": {
          "width": 0.5
         },
         "mode": "lines",
         "name": "Digital Financial Inclusion",
         "stackgroup": "one",
         "type": "scatter",
         "x": {
          "bdata": "ywcAAMwHAADNBwAAzgcAAM8HAADQBwAA0QcAANIHAADTBwAA1AcAANUHAADWBwAA1wcAANgHAADZBwAA2gcAANsHAADcBwAA3QcAAN4HAADfBwAA4AcAAOEHAADiBwAA4wcAAOQHAADlBwAA5gcAAOcHAADoBwAA",
          "dtype": "i4"
         },
         "y": {
          "bdata": "AwMGAwYEBAcMAwwDEAACAAIAAgADBAMBAQUFBAID",
          "dtype": "i1"
         }
        },
        {
         "hoverinfo": "x+y+name",
         "line": {
          "width": 0.5
         },
         "mode": "lines",
         "name": "Digital Governance Studies",
         "stackgroup": "one",
         "type": "scatter",
         "x": {
          "bdata": "ywcAAMwHAADNBwAAzgcAAM8HAADQBwAA0QcAANIHAADTBwAA1AcAANUHAADWBwAA1wcAANgHAADZBwAA2gcAANsHAADcBwAA3QcAAN4HAADfBwAA4AcAAOEHAADiBwAA4wcAAOQHAADlBwAA5gcAAOcHAADoBwAA",
          "dtype": "i4"
         },
         "y": {
          "bdata": "BgIFAw0IBxAOBAcJDQQGCgcKBRsGDAgeCxsZDgUT",
          "dtype": "i1"
         }
        },
        {
         "hoverinfo": "x+y+name",
         "line": {
          "width": 0.5
         },
         "mode": "lines",
         "name": "Digital Inequality Research",
         "stackgroup": "one",
         "type": "scatter",
         "x": {
          "bdata": "ywcAAMwHAADNBwAAzgcAAM8HAADQBwAA0QcAANIHAADTBwAA1AcAANUHAADWBwAA1wcAANgHAADZBwAA2gcAANsHAADcBwAA3QcAAN4HAADfBwAA4AcAAOEHAADiBwAA4wcAAOQHAADlBwAA5gcAAOcHAADoBwAA",
          "dtype": "i4"
         },
         "y": {
          "bdata": "CgMHAhUNBAsTCwkNFAYDBwYDAQcABQUGAAcCAgEC",
          "dtype": "i1"
         }
        },
        {
         "hoverinfo": "x+y+name",
         "line": {
          "width": 0.5
         },
         "mode": "lines",
         "name": "Digital Media Culture",
         "stackgroup": "one",
         "type": "scatter",
         "x": {
          "bdata": "ywcAAMwHAADNBwAAzgcAAM8HAADQBwAA0QcAANIHAADTBwAA1AcAANUHAADWBwAA1wcAANgHAADZBwAA2gcAANsHAADcBwAA3QcAAN4HAADfBwAA4AcAAOEHAADiBwAA4wcAAOQHAADlBwAA5gcAAOcHAADoBwAA",
          "dtype": "i4"
         },
         "y": {
          "bdata": "AwECAAAAAAIEAgEEBQYFCgQHCAwKBgoGAwUFCwUD",
          "dtype": "i1"
         }
        },
        {
         "hoverinfo": "x+y+name",
         "line": {
          "width": 0.5
         },
         "mode": "lines",
         "name": "Digital Media Studies",
         "stackgroup": "one",
         "type": "scatter",
         "x": {
          "bdata": "ywcAAMwHAADNBwAAzgcAAM8HAADQBwAA0QcAANIHAADTBwAA1AcAANUHAADWBwAA1wcAANgHAADZBwAA2gcAANsHAADcBwAA3QcAAN4HAADfBwAA4AcAAOEHAADiBwAA4wcAAOQHAADlBwAA5gcAAOcHAADoBwAA",
          "dtype": "i4"
         },
         "y": {
          "bdata": "AwEDAgQDCAIIChIDCAQCBwMEAxEGAQACAwUKFwEA",
          "dtype": "i1"
         }
        },
        {
         "hoverinfo": "x+y+name",
         "line": {
          "width": 0.5
         },
         "mode": "lines",
         "name": "Open Access Publishing",
         "stackgroup": "one",
         "type": "scatter",
         "x": {
          "bdata": "ywcAAMwHAADNBwAAzgcAAM8HAADQBwAA0QcAANIHAADTBwAA1AcAANUHAADWBwAA1wcAANgHAADZBwAA2gcAANsHAADcBwAA3QcAAN4HAADfBwAA4AcAAOEHAADiBwAA4wcAAOQHAADlBwAA5gcAAOcHAADoBwAA",
          "dtype": "i4"
         },
         "y": {
          "bdata": "BQMFAQMDBQUDBQIIFAIFBgIEBAQBAAICAAABAQMB",
          "dtype": "i1"
         }
        },
        {
         "hoverinfo": "x+y+name",
         "line": {
          "width": 0.5
         },
         "mode": "lines",
         "name": "Open Source Software",
         "stackgroup": "one",
         "type": "scatter",
         "x": {
          "bdata": "ywcAAMwHAADNBwAAzgcAAM8HAADQBwAA0QcAANIHAADTBwAA1AcAANUHAADWBwAA1wcAANgHAADZBwAA2gcAANsHAADcBwAA3QcAAN4HAADfBwAA4AcAAOEHAADiBwAA4wcAAOQHAADlBwAA5gcAAOcHAADoBwAA",
          "dtype": "i4"
         },
         "y": {
          "bdata": "AQACAggGAwQMDxsMEAYDBgMBAgMBAgAEAQEBAgAB",
          "dtype": "i1"
         }
        },
        {
         "hoverinfo": "x+y+name",
         "line": {
          "width": 0.5
         },
         "mode": "lines",
         "name": "Social Media Misbehavior",
         "stackgroup": "one",
         "type": "scatter",
         "x": {
          "bdata": "ywcAAMwHAADNBwAAzgcAAM8HAADQBwAA0QcAANIHAADTBwAA1AcAANUHAADWBwAA1wcAANgHAADZBwAA2gcAANsHAADcBwAA3QcAAN4HAADfBwAA4AcAAOEHAADiBwAA4wcAAOQHAADlBwAA5gcAAOcHAADoBwAA",
          "dtype": "i4"
         },
         "y": {
          "bdata": "AAAAAAABAgICAAMCAwMFBQYEBggKBgwgFBUMIQoO",
          "dtype": "i1"
         }
        },
        {
         "hoverinfo": "x+y+name",
         "line": {
          "width": 0.5
         },
         "mode": "lines",
         "name": "Social Media Politics",
         "stackgroup": "one",
         "type": "scatter",
         "x": {
          "bdata": "ywcAAMwHAADNBwAAzgcAAM8HAADQBwAA0QcAANIHAADTBwAA1AcAANUHAADWBwAA1wcAANgHAADZBwAA2gcAANsHAADcBwAA3QcAAN4HAADfBwAA4AcAAOEHAADiBwAA4wcAAOQHAADlBwAA5gcAAOcHAADoBwAA",
          "dtype": "i4"
         },
         "y": {
          "bdata": "AAEAAAICBQIDAwMBBwIEDAQNDBMLDwMTEgwGEQkK",
          "dtype": "i1"
         }
        },
        {
         "hoverinfo": "x+y+name",
         "line": {
          "width": 0.5
         },
         "mode": "lines",
         "name": "Technology Enhanced Education",
         "stackgroup": "one",
         "type": "scatter",
         "x": {
          "bdata": "ywcAAMwHAADNBwAAzgcAAM8HAADQBwAA0QcAANIHAADTBwAA1AcAANUHAADWBwAA1wcAANgHAADZBwAA2gcAANsHAADcBwAA3QcAAN4HAADfBwAA4AcAAOEHAADiBwAA4wcAAOQHAADlBwAA5gcAAOcHAADoBwAA",
          "dtype": "i4"
         },
         "y": {
          "bdata": "CwgHDBcLDAkPBwoWHAwHFAcKAwoGBgsXBQYEBw8C",
          "dtype": "i1"
         }
        },
        {
         "hoverinfo": "x+y+name",
         "line": {
          "width": 0.5
         },
         "mode": "lines",
         "name": "Urban Data Visualization",
         "stackgroup": "one",
         "type": "scatter",
         "x": {
          "bdata": "ywcAAMwHAADNBwAAzgcAAM8HAADQBwAA0QcAANIHAADTBwAA1AcAANUHAADWBwAA1wcAANgHAADZBwAA2gcAANsHAADcBwAA3QcAAN4HAADfBwAA4AcAAOEHAADiBwAA4wcAAOQHAADlBwAA5gcAAOcHAADoBwAA",
          "dtype": "i4"
         },
         "y": {
          "bdata": "AgEAAAIAAQMCAA8BAwMBBQMBFgcFBAgBAQEAAwAC",
          "dtype": "i1"
         }
        },
        {
         "hoverinfo": "x+y+name",
         "line": {
          "width": 0.5
         },
         "mode": "lines",
         "name": "Virtual Gaming Privacy",
         "stackgroup": "one",
         "type": "scatter",
         "x": {
          "bdata": "ywcAAMwHAADNBwAAzgcAAM8HAADQBwAA0QcAANIHAADTBwAA1AcAANUHAADWBwAA1wcAANgHAADZBwAA2gcAANsHAADcBwAA3QcAAN4HAADfBwAA4AcAAOEHAADiBwAA4wcAAOQHAADlBwAA5gcAAOcHAADoBwAA",
          "dtype": "i4"
         },
         "y": {
          "bdata": "BgACAAEAAAECAQILBQcDCQMCBAgFBgUMAgADDAQG",
          "dtype": "i1"
         }
        },
        {
         "hoverinfo": "x+y+name",
         "line": {
          "width": 0.5
         },
         "mode": "lines",
         "name": "Web Accessibility Research",
         "stackgroup": "one",
         "type": "scatter",
         "x": {
          "bdata": "ywcAAMwHAADNBwAAzgcAAM8HAADQBwAA0QcAANIHAADTBwAA1AcAANUHAADWBwAA1wcAANgHAADZBwAA2gcAANsHAADcBwAA3QcAAN4HAADfBwAA4AcAAOEHAADiBwAA4wcAAOQHAADlBwAA5gcAAOcHAADoBwAA",
          "dtype": "i4"
         },
         "y": {
          "bdata": "AgUCAwQCAgYHAwUCBQMDBAMCAw4DAgECAwAFEAEB",
          "dtype": "i1"
         }
        }
       ],
       "layout": {
        "hovermode": "x unified",
        "legend": {
         "title": {
          "text": "Theme"
         }
        },
        "template": {
         "data": {
          "bar": [
           {
            "error_x": {
             "color": "#2a3f5f"
            },
            "error_y": {
             "color": "#2a3f5f"
            },
            "marker": {
             "line": {
              "color": "#E5ECF6",
              "width": 0.5
             },
             "pattern": {
              "fillmode": "overlay",
              "size": 10,
              "solidity": 0.2
             }
            },
            "type": "bar"
           }
          ],
          "barpolar": [
           {
            "marker": {
             "line": {
              "color": "#E5ECF6",
              "width": 0.5
             },
             "pattern": {
              "fillmode": "overlay",
              "size": 10,
              "solidity": 0.2
             }
            },
            "type": "barpolar"
           }
          ],
          "carpet": [
           {
            "aaxis": {
             "endlinecolor": "#2a3f5f",
             "gridcolor": "white",
             "linecolor": "white",
             "minorgridcolor": "white",
             "startlinecolor": "#2a3f5f"
            },
            "baxis": {
             "endlinecolor": "#2a3f5f",
             "gridcolor": "white",
             "linecolor": "white",
             "minorgridcolor": "white",
             "startlinecolor": "#2a3f5f"
            },
            "type": "carpet"
           }
          ],
          "choropleth": [
           {
            "colorbar": {
             "outlinewidth": 0,
             "ticks": ""
            },
            "type": "choropleth"
           }
          ],
          "contour": [
           {
            "colorbar": {
             "outlinewidth": 0,
             "ticks": ""
            },
            "colorscale": [
             [
              0,
              "#0d0887"
             ],
             [
              0.1111111111111111,
              "#46039f"
             ],
             [
              0.2222222222222222,
              "#7201a8"
             ],
             [
              0.3333333333333333,
              "#9c179e"
             ],
             [
              0.4444444444444444,
              "#bd3786"
             ],
             [
              0.5555555555555556,
              "#d8576b"
             ],
             [
              0.6666666666666666,
              "#ed7953"
             ],
             [
              0.7777777777777778,
              "#fb9f3a"
             ],
             [
              0.8888888888888888,
              "#fdca26"
             ],
             [
              1,
              "#f0f921"
             ]
            ],
            "type": "contour"
           }
          ],
          "contourcarpet": [
           {
            "colorbar": {
             "outlinewidth": 0,
             "ticks": ""
            },
            "type": "contourcarpet"
           }
          ],
          "heatmap": [
           {
            "colorbar": {
             "outlinewidth": 0,
             "ticks": ""
            },
            "colorscale": [
             [
              0,
              "#0d0887"
             ],
             [
              0.1111111111111111,
              "#46039f"
             ],
             [
              0.2222222222222222,
              "#7201a8"
             ],
             [
              0.3333333333333333,
              "#9c179e"
             ],
             [
              0.4444444444444444,
              "#bd3786"
             ],
             [
              0.5555555555555556,
              "#d8576b"
             ],
             [
              0.6666666666666666,
              "#ed7953"
             ],
             [
              0.7777777777777778,
              "#fb9f3a"
             ],
             [
              0.8888888888888888,
              "#fdca26"
             ],
             [
              1,
              "#f0f921"
             ]
            ],
            "type": "heatmap"
           }
          ],
          "histogram": [
           {
            "marker": {
             "pattern": {
              "fillmode": "overlay",
              "size": 10,
              "solidity": 0.2
             }
            },
            "type": "histogram"
           }
          ],
          "histogram2d": [
           {
            "colorbar": {
             "outlinewidth": 0,
             "ticks": ""
            },
            "colorscale": [
             [
              0,
              "#0d0887"
             ],
             [
              0.1111111111111111,
              "#46039f"
             ],
             [
              0.2222222222222222,
              "#7201a8"
             ],
             [
              0.3333333333333333,
              "#9c179e"
             ],
             [
              0.4444444444444444,
              "#bd3786"
             ],
             [
              0.5555555555555556,
              "#d8576b"
             ],
             [
              0.6666666666666666,
              "#ed7953"
             ],
             [
              0.7777777777777778,
              "#fb9f3a"
             ],
             [
              0.8888888888888888,
              "#fdca26"
             ],
             [
              1,
              "#f0f921"
             ]
            ],
            "type": "histogram2d"
           }
          ],
          "histogram2dcontour": [
           {
            "colorbar": {
             "outlinewidth": 0,
             "ticks": ""
            },
            "colorscale": [
             [
              0,
              "#0d0887"
             ],
             [
              0.1111111111111111,
              "#46039f"
             ],
             [
              0.2222222222222222,
              "#7201a8"
             ],
             [
              0.3333333333333333,
              "#9c179e"
             ],
             [
              0.4444444444444444,
              "#bd3786"
             ],
             [
              0.5555555555555556,
              "#d8576b"
             ],
             [
              0.6666666666666666,
              "#ed7953"
             ],
             [
              0.7777777777777778,
              "#fb9f3a"
             ],
             [
              0.8888888888888888,
              "#fdca26"
             ],
             [
              1,
              "#f0f921"
             ]
            ],
            "type": "histogram2dcontour"
           }
          ],
          "mesh3d": [
           {
            "colorbar": {
             "outlinewidth": 0,
             "ticks": ""
            },
            "type": "mesh3d"
           }
          ],
          "parcoords": [
           {
            "line": {
             "colorbar": {
              "outlinewidth": 0,
              "ticks": ""
             }
            },
            "type": "parcoords"
           }
          ],
          "pie": [
           {
            "automargin": true,
            "type": "pie"
           }
          ],
          "scatter": [
           {
            "fillpattern": {
             "fillmode": "overlay",
             "size": 10,
             "solidity": 0.2
            },
            "type": "scatter"
           }
          ],
          "scatter3d": [
           {
            "line": {
             "colorbar": {
              "outlinewidth": 0,
              "ticks": ""
             }
            },
            "marker": {
             "colorbar": {
              "outlinewidth": 0,
              "ticks": ""
             }
            },
            "type": "scatter3d"
           }
          ],
          "scattercarpet": [
           {
            "marker": {
             "colorbar": {
              "outlinewidth": 0,
              "ticks": ""
             }
            },
            "type": "scattercarpet"
           }
          ],
          "scattergeo": [
           {
            "marker": {
             "colorbar": {
              "outlinewidth": 0,
              "ticks": ""
             }
            },
            "type": "scattergeo"
           }
          ],
          "scattergl": [
           {
            "marker": {
             "colorbar": {
              "outlinewidth": 0,
              "ticks": ""
             }
            },
            "type": "scattergl"
           }
          ],
          "scattermap": [
           {
            "marker": {
             "colorbar": {
              "outlinewidth": 0,
              "ticks": ""
             }
            },
            "type": "scattermap"
           }
          ],
          "scattermapbox": [
           {
            "marker": {
             "colorbar": {
              "outlinewidth": 0,
              "ticks": ""
             }
            },
            "type": "scattermapbox"
           }
          ],
          "scatterpolar": [
           {
            "marker": {
             "colorbar": {
              "outlinewidth": 0,
              "ticks": ""
             }
            },
            "type": "scatterpolar"
           }
          ],
          "scatterpolargl": [
           {
            "marker": {
             "colorbar": {
              "outlinewidth": 0,
              "ticks": ""
             }
            },
            "type": "scatterpolargl"
           }
          ],
          "scatterternary": [
           {
            "marker": {
             "colorbar": {
              "outlinewidth": 0,
              "ticks": ""
             }
            },
            "type": "scatterternary"
           }
          ],
          "surface": [
           {
            "colorbar": {
             "outlinewidth": 0,
             "ticks": ""
            },
            "colorscale": [
             [
              0,
              "#0d0887"
             ],
             [
              0.1111111111111111,
              "#46039f"
             ],
             [
              0.2222222222222222,
              "#7201a8"
             ],
             [
              0.3333333333333333,
              "#9c179e"
             ],
             [
              0.4444444444444444,
              "#bd3786"
             ],
             [
              0.5555555555555556,
              "#d8576b"
             ],
             [
              0.6666666666666666,
              "#ed7953"
             ],
             [
              0.7777777777777778,
              "#fb9f3a"
             ],
             [
              0.8888888888888888,
              "#fdca26"
             ],
             [
              1,
              "#f0f921"
             ]
            ],
            "type": "surface"
           }
          ],
          "table": [
           {
            "cells": {
             "fill": {
              "color": "#EBF0F8"
             },
             "line": {
              "color": "white"
             }
            },
            "header": {
             "fill": {
              "color": "#C8D4E3"
             },
             "line": {
              "color": "white"
             }
            },
            "type": "table"
           }
          ]
         },
         "layout": {
          "annotationdefaults": {
           "arrowcolor": "#2a3f5f",
           "arrowhead": 0,
           "arrowwidth": 1
          },
          "autotypenumbers": "strict",
          "coloraxis": {
           "colorbar": {
            "outlinewidth": 0,
            "ticks": ""
           }
          },
          "colorscale": {
           "diverging": [
            [
             0,
             "#8e0152"
            ],
            [
             0.1,
             "#c51b7d"
            ],
            [
             0.2,
             "#de77ae"
            ],
            [
             0.3,
             "#f1b6da"
            ],
            [
             0.4,
             "#fde0ef"
            ],
            [
             0.5,
             "#f7f7f7"
            ],
            [
             0.6,
             "#e6f5d0"
            ],
            [
             0.7,
             "#b8e186"
            ],
            [
             0.8,
             "#7fbc41"
            ],
            [
             0.9,
             "#4d9221"
            ],
            [
             1,
             "#276419"
            ]
           ],
           "sequential": [
            [
             0,
             "#0d0887"
            ],
            [
             0.1111111111111111,
             "#46039f"
            ],
            [
             0.2222222222222222,
             "#7201a8"
            ],
            [
             0.3333333333333333,
             "#9c179e"
            ],
            [
             0.4444444444444444,
             "#bd3786"
            ],
            [
             0.5555555555555556,
             "#d8576b"
            ],
            [
             0.6666666666666666,
             "#ed7953"
            ],
            [
             0.7777777777777778,
             "#fb9f3a"
            ],
            [
             0.8888888888888888,
             "#fdca26"
            ],
            [
             1,
             "#f0f921"
            ]
           ],
           "sequentialminus": [
            [
             0,
             "#0d0887"
            ],
            [
             0.1111111111111111,
             "#46039f"
            ],
            [
             0.2222222222222222,
             "#7201a8"
            ],
            [
             0.3333333333333333,
             "#9c179e"
            ],
            [
             0.4444444444444444,
             "#bd3786"
            ],
            [
             0.5555555555555556,
             "#d8576b"
            ],
            [
             0.6666666666666666,
             "#ed7953"
            ],
            [
             0.7777777777777778,
             "#fb9f3a"
            ],
            [
             0.8888888888888888,
             "#fdca26"
            ],
            [
             1,
             "#f0f921"
            ]
           ]
          },
          "colorway": [
           "#636efa",
           "#EF553B",
           "#00cc96",
           "#ab63fa",
           "#FFA15A",
           "#19d3f3",
           "#FF6692",
           "#B6E880",
           "#FF97FF",
           "#FECB52"
          ],
          "font": {
           "color": "#2a3f5f"
          },
          "geo": {
           "bgcolor": "white",
           "lakecolor": "white",
           "landcolor": "#E5ECF6",
           "showlakes": true,
           "showland": true,
           "subunitcolor": "white"
          },
          "hoverlabel": {
           "align": "left"
          },
          "hovermode": "closest",
          "mapbox": {
           "style": "light"
          },
          "paper_bgcolor": "white",
          "plot_bgcolor": "#E5ECF6",
          "polar": {
           "angularaxis": {
            "gridcolor": "white",
            "linecolor": "white",
            "ticks": ""
           },
           "bgcolor": "#E5ECF6",
           "radialaxis": {
            "gridcolor": "white",
            "linecolor": "white",
            "ticks": ""
           }
          },
          "scene": {
           "xaxis": {
            "backgroundcolor": "#E5ECF6",
            "gridcolor": "white",
            "gridwidth": 2,
            "linecolor": "white",
            "showbackground": true,
            "ticks": "",
            "zerolinecolor": "white"
           },
           "yaxis": {
            "backgroundcolor": "#E5ECF6",
            "gridcolor": "white",
            "gridwidth": 2,
            "linecolor": "white",
            "showbackground": true,
            "ticks": "",
            "zerolinecolor": "white"
           },
           "zaxis": {
            "backgroundcolor": "#E5ECF6",
            "gridcolor": "white",
            "gridwidth": 2,
            "linecolor": "white",
            "showbackground": true,
            "ticks": "",
            "zerolinecolor": "white"
           }
          },
          "shapedefaults": {
           "line": {
            "color": "#2a3f5f"
           }
          },
          "ternary": {
           "aaxis": {
            "gridcolor": "white",
            "linecolor": "white",
            "ticks": ""
           },
           "baxis": {
            "gridcolor": "white",
            "linecolor": "white",
            "ticks": ""
           },
           "bgcolor": "#E5ECF6",
           "caxis": {
            "gridcolor": "white",
            "linecolor": "white",
            "ticks": ""
           }
          },
          "title": {
           "x": 0.05
          },
          "xaxis": {
           "automargin": true,
           "gridcolor": "white",
           "linecolor": "white",
           "ticks": "",
           "title": {
            "standoff": 15
           },
           "zerolinecolor": "white",
           "zerolinewidth": 2
          },
          "yaxis": {
           "automargin": true,
           "gridcolor": "white",
           "linecolor": "white",
           "ticks": "",
           "title": {
            "standoff": 15
           },
           "zerolinecolor": "white",
           "zerolinewidth": 2
          }
         }
        },
        "title": {
         "text": "Ribbon Chart of Internet Research Themes Over Time"
        },
        "xaxis": {
         "title": {
          "text": "Time"
         }
        },
        "yaxis": {
         "title": {
          "text": "Frequency"
         }
        }
       }
      }
     },
     "metadata": {},
     "output_type": "display_data"
    }
   ],
   "source": [
    "import pandas as pd\n",
    "import plotly.graph_objects as go\n",
    "\n",
    "def create_ribbon_chart(df):\n",
    "    # Convert Timestamp to datetime\n",
    "    df['Timestamp'] = pd.to_datetime(df['Timestamp'])\n",
    "    df['Year'] = df['Timestamp'].dt.year\n",
    "    \n",
    "    # Pivot: rows as Timestamp, columns as topics, values as Frequency\n",
    "    pivot_df = df.pivot_table(index='Year', \n",
    "                              columns='Semantic_Theme', \n",
    "                              values='Frequency', \n",
    "                              aggfunc='sum', \n",
    "                              fill_value=0)\n",
    "    \n",
    "    # Sort by date so ribbons flow in chronological order\n",
    "    pivot_df.sort_index(inplace=True)\n",
    "\n",
    "    return pivot_df\n",
    "\n",
    "def visualize_ribbon_chart(pivot_df, title=\"Ribbon Chart of Internet Research Themes Over Time\"):\n",
    "    fig = go.Figure()\n",
    "\n",
    "    # Add a trace for each topic (column in pivot_df)\n",
    "    for topic in pivot_df.columns:\n",
    "        fig.add_trace(go.Scatter(\n",
    "            x = pivot_df.index,\n",
    "            y = pivot_df[topic],\n",
    "            stackgroup='one',  # This is what makes it a stacked area\n",
    "            name=topic,\n",
    "            mode='lines',      # or 'none' if we don't want a boundary line\n",
    "            line=dict(width=0.5),\n",
    "            hoverinfo='x+y+name'\n",
    "        ))\n",
    "\n",
    "    # Customize layout\n",
    "    fig.update_layout(\n",
    "        title=title,\n",
    "        xaxis_title=\"Time\",\n",
    "        yaxis_title=\"Frequency\",\n",
    "        legend_title=\"Theme\",\n",
    "        hovermode=\"x unified\"\n",
    "    )\n",
    "\n",
    "    fig.show()\n",
    "\n",
    "# Usage:\n",
    "pivot_df = create_ribbon_chart(df_themes_over_time)\n",
    "visualize_ribbon_chart(pivot_df)"
   ]
  },
  {
   "cell_type": "code",
   "execution_count": 17,
   "metadata": {},
   "outputs": [
    {
     "data": {
      "image/png": "[encoded data removed]",
      "text/plain": [
       "<Figure size 1200x800 with 1 Axes>"
      ]
     },
     "metadata": {},
     "output_type": "display_data"
    }
   ],
   "source": [
    "# Create a bubble chart for theme popularity over time\n",
    "import matplotlib.pyplot as plt\n",
    "\n",
    "theme_time_evolution = df_themes_over_time\n",
    "bubble_size_factor = 30\n",
    "\n",
    "# Create the bubble chart:\n",
    "plt.figure(figsize=(12, 8))\n",
    "plt.scatter(\n",
    "    theme_df['Cluster'], \n",
    "    theme_df['Cluster_Count'], \n",
    "    s=theme_df['Cluster_%'] * bubble_size_factor,\n",
    "    alpha=0.7,\n",
    "    color='skyblue',\n",
    "    edgecolors='grey',\n",
    "    linewidth=1.5\n",
    ")\n",
    "\n",
    "# Anotate each bubble with the Semantic_Theme\n",
    "for idx, row in theme_df.iterrows():\n",
    "    plt.annotate(\n",
    "        row['Semantic_Theme'][:30] + '...',  # showing first 30 characters\n",
    "        (row['Cluster'], row['Cluster_Count']),\n",
    "        textcoords=\"offset points\",\n",
    "        xytext=(0, 10),  # offset text 10 points above the bubble\n",
    "        ha='center',\n",
    "        fontsize=10,\n",
    "        color='darkred'\n",
    "    )\n",
    "\n",
    "plt.xlabel('Cluster')\n",
    "plt.ylabel('Cluster Count')\n",
    "plt.title('Bubble Chart of Clusters (Bubble size represents % of Total Count)')\n",
    "\n",
    "plt.grid(True, linestyle='--', alpha=0.5)\n",
    "plt.tight_layout()\n",
    "plt.show()"
   ]
  }
 ],
 "metadata": {
  "kernelspec": {
   "display_name": "bertopic_39",
   "language": "python",
   "name": "python3"
  },
  "language_info": {
   "codemirror_mode": {
    "name": "ipython",
    "version": 3
   },
   "file_extension": ".py",
   "mimetype": "text/x-python",
   "name": "python",
   "nbconvert_exporter": "python",
   "pygments_lexer": "ipython3",
   "version": "3.9.21"
  }
 },
 "nbformat": 4,
 "nbformat_minor": 2
}
